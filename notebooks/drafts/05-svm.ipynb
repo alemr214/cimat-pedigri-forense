{
 "cells": [
  {
   "cell_type": "markdown",
   "id": "29855a43",
   "metadata": {},
   "source": [
    "## Configuración de la sección\n",
    "\n",
    "En esta sección se realiza lo siguiente:\n",
    "- Importado de las librerías necesarias para trabajar en todo el *notebook*.\n",
    "- Exploración de los datos.\n",
    "- Separación de los datos en entrenamiento y pruebas.\n",
    "- Selección de las variables X y Y para el entrenamiento del modelo."
   ]
  },
  {
   "cell_type": "code",
   "execution_count": null,
   "id": "470c061e",
   "metadata": {},
   "outputs": [],
   "source": [
    "# Imports\n",
    "import pandas as pd\n",
    "from sklearn.svm import SVC\n",
    "from sklearn.metrics import confusion_matrix, ConfusionMatrixDisplay, accuracy_score, roc_auc_score, precision_score, recall_score, f1_score\n",
    "import matplotlib.pyplot as plt\n",
    "import warnings\n",
    "warnings.filterwarnings(\"ignore\")"
   ]
  },
  {
   "cell_type": "code",
   "execution_count": 2,
   "id": "541419e6",
   "metadata": {},
   "outputs": [],
   "source": [
    "# Reading the CSV files with pandas\n",
    "\n",
    "df_train = pd.read_csv(\"../data/processed/original/train50.csv\")\n",
    "df_test = pd.read_csv(\"../data/processed/original/test50.csv\")"
   ]
  },
  {
   "cell_type": "code",
   "execution_count": 3,
   "id": "a3cab0f6",
   "metadata": {},
   "outputs": [
    {
     "data": {
      "application/vnd.microsoft.datawrangler.viewer.v0+json": {
       "columns": [
        {
         "name": "index",
         "rawType": "int64",
         "type": "integer"
        },
        {
         "name": "Shared_Markers",
         "rawType": "int64",
         "type": "integer"
        },
        {
         "name": "k0",
         "rawType": "int64",
         "type": "integer"
        },
        {
         "name": "k1",
         "rawType": "int64",
         "type": "integer"
        },
        {
         "name": "k2",
         "rawType": "int64",
         "type": "integer"
        },
        {
         "name": "Share_allele",
         "rawType": "int64",
         "type": "integer"
        },
        {
         "name": "Value",
         "rawType": "float64",
         "type": "float"
        },
        {
         "name": "True_positive",
         "rawType": "bool",
         "type": "boolean"
        },
        {
         "name": "Marcadores",
         "rawType": "int64",
         "type": "integer"
        },
        {
         "name": "Software",
         "rawType": "object",
         "type": "string"
        },
        {
         "name": "Datos",
         "rawType": "object",
         "type": "string"
        },
        {
         "name": "Kinship",
         "rawType": "object",
         "type": "string"
        },
        {
         "name": "File",
         "rawType": "object",
         "type": "string"
        },
        {
         "name": "Hoja",
         "rawType": "object",
         "type": "string"
        },
        {
         "name": "Sheet",
         "rawType": "object",
         "type": "string"
        },
        {
         "name": "Value_range",
         "rawType": "object",
         "type": "string"
        },
        {
         "name": "FAM_Sample_info_id",
         "rawType": "int64",
         "type": "integer"
        },
        {
         "name": "FAM_Sample_info_rel",
         "rawType": "object",
         "type": "string"
        },
        {
         "name": "VIC_Sample_info_id",
         "rawType": "int64",
         "type": "integer"
        },
        {
         "name": "VIC_Sample_info_rel",
         "rawType": "object",
         "type": "string"
        }
       ],
       "ref": "2024065a-2f92-4c3e-9c52-48ceadc0948b",
       "rows": [
        [
         "0",
         "15",
         "0",
         "4",
         "11",
         "26",
         "236354.0",
         "False",
         "15",
         "BlindSeach",
         "Simulados",
         "Paternidad",
         "15_BlindSeach_Simulados_Paternidad_allele",
         "ipi-1",
         "1:749",
         "100000-999999",
         "12102",
         "F",
         "65402",
         "F"
        ],
        [
         "1",
         "15",
         "0",
         "7",
         "8",
         "23",
         "184374.0",
         "False",
         "15",
         "BlindSeach",
         "Simulados",
         "Paternidad",
         "15_BlindSeach_Simulados_Paternidad_allele",
         "ipi-1",
         "1:749",
         "100000-999999",
         "23802",
         "S",
         "99602",
         "F"
        ],
        [
         "2",
         "15",
         "0",
         "6",
         "9",
         "24",
         "83900.6",
         "False",
         "15",
         "BlindSeach",
         "Simulados",
         "Paternidad",
         "15_BlindSeach_Simulados_Paternidad_allele",
         "ipi-1",
         "1:749",
         "10000-99999",
         "47302",
         "S",
         "62402",
         "F"
        ],
        [
         "3",
         "15",
         "0",
         "10",
         "5",
         "20",
         "41143.0",
         "False",
         "15",
         "BlindSeach",
         "Simulados",
         "Paternidad",
         "15_BlindSeach_Simulados_Paternidad_allele",
         "ipi-1",
         "1:749",
         "10000-99999",
         "116102",
         "F",
         "116702",
         "F"
        ],
        [
         "4",
         "15",
         "0",
         "8",
         "7",
         "22",
         "30327.8",
         "False",
         "15",
         "BlindSeach",
         "Simulados",
         "Paternidad",
         "15_BlindSeach_Simulados_Paternidad_allele",
         "ipi-1",
         "1:749",
         "10000-99999",
         "122502",
         "F",
         "83702",
         "S"
        ]
       ],
       "shape": {
        "columns": 19,
        "rows": 5
       }
      },
      "text/html": [
       "<div>\n",
       "<style scoped>\n",
       "    .dataframe tbody tr th:only-of-type {\n",
       "        vertical-align: middle;\n",
       "    }\n",
       "\n",
       "    .dataframe tbody tr th {\n",
       "        vertical-align: top;\n",
       "    }\n",
       "\n",
       "    .dataframe thead th {\n",
       "        text-align: right;\n",
       "    }\n",
       "</style>\n",
       "<table border=\"1\" class=\"dataframe\">\n",
       "  <thead>\n",
       "    <tr style=\"text-align: right;\">\n",
       "      <th></th>\n",
       "      <th>Shared_Markers</th>\n",
       "      <th>k0</th>\n",
       "      <th>k1</th>\n",
       "      <th>k2</th>\n",
       "      <th>Share_allele</th>\n",
       "      <th>Value</th>\n",
       "      <th>True_positive</th>\n",
       "      <th>Marcadores</th>\n",
       "      <th>Software</th>\n",
       "      <th>Datos</th>\n",
       "      <th>Kinship</th>\n",
       "      <th>File</th>\n",
       "      <th>Hoja</th>\n",
       "      <th>Sheet</th>\n",
       "      <th>Value_range</th>\n",
       "      <th>FAM_Sample_info_id</th>\n",
       "      <th>FAM_Sample_info_rel</th>\n",
       "      <th>VIC_Sample_info_id</th>\n",
       "      <th>VIC_Sample_info_rel</th>\n",
       "    </tr>\n",
       "  </thead>\n",
       "  <tbody>\n",
       "    <tr>\n",
       "      <th>0</th>\n",
       "      <td>15</td>\n",
       "      <td>0</td>\n",
       "      <td>4</td>\n",
       "      <td>11</td>\n",
       "      <td>26</td>\n",
       "      <td>236354.0</td>\n",
       "      <td>False</td>\n",
       "      <td>15</td>\n",
       "      <td>BlindSeach</td>\n",
       "      <td>Simulados</td>\n",
       "      <td>Paternidad</td>\n",
       "      <td>15_BlindSeach_Simulados_Paternidad_allele</td>\n",
       "      <td>ipi-1</td>\n",
       "      <td>1:749</td>\n",
       "      <td>100000-999999</td>\n",
       "      <td>12102</td>\n",
       "      <td>F</td>\n",
       "      <td>65402</td>\n",
       "      <td>F</td>\n",
       "    </tr>\n",
       "    <tr>\n",
       "      <th>1</th>\n",
       "      <td>15</td>\n",
       "      <td>0</td>\n",
       "      <td>7</td>\n",
       "      <td>8</td>\n",
       "      <td>23</td>\n",
       "      <td>184374.0</td>\n",
       "      <td>False</td>\n",
       "      <td>15</td>\n",
       "      <td>BlindSeach</td>\n",
       "      <td>Simulados</td>\n",
       "      <td>Paternidad</td>\n",
       "      <td>15_BlindSeach_Simulados_Paternidad_allele</td>\n",
       "      <td>ipi-1</td>\n",
       "      <td>1:749</td>\n",
       "      <td>100000-999999</td>\n",
       "      <td>23802</td>\n",
       "      <td>S</td>\n",
       "      <td>99602</td>\n",
       "      <td>F</td>\n",
       "    </tr>\n",
       "    <tr>\n",
       "      <th>2</th>\n",
       "      <td>15</td>\n",
       "      <td>0</td>\n",
       "      <td>6</td>\n",
       "      <td>9</td>\n",
       "      <td>24</td>\n",
       "      <td>83900.6</td>\n",
       "      <td>False</td>\n",
       "      <td>15</td>\n",
       "      <td>BlindSeach</td>\n",
       "      <td>Simulados</td>\n",
       "      <td>Paternidad</td>\n",
       "      <td>15_BlindSeach_Simulados_Paternidad_allele</td>\n",
       "      <td>ipi-1</td>\n",
       "      <td>1:749</td>\n",
       "      <td>10000-99999</td>\n",
       "      <td>47302</td>\n",
       "      <td>S</td>\n",
       "      <td>62402</td>\n",
       "      <td>F</td>\n",
       "    </tr>\n",
       "    <tr>\n",
       "      <th>3</th>\n",
       "      <td>15</td>\n",
       "      <td>0</td>\n",
       "      <td>10</td>\n",
       "      <td>5</td>\n",
       "      <td>20</td>\n",
       "      <td>41143.0</td>\n",
       "      <td>False</td>\n",
       "      <td>15</td>\n",
       "      <td>BlindSeach</td>\n",
       "      <td>Simulados</td>\n",
       "      <td>Paternidad</td>\n",
       "      <td>15_BlindSeach_Simulados_Paternidad_allele</td>\n",
       "      <td>ipi-1</td>\n",
       "      <td>1:749</td>\n",
       "      <td>10000-99999</td>\n",
       "      <td>116102</td>\n",
       "      <td>F</td>\n",
       "      <td>116702</td>\n",
       "      <td>F</td>\n",
       "    </tr>\n",
       "    <tr>\n",
       "      <th>4</th>\n",
       "      <td>15</td>\n",
       "      <td>0</td>\n",
       "      <td>8</td>\n",
       "      <td>7</td>\n",
       "      <td>22</td>\n",
       "      <td>30327.8</td>\n",
       "      <td>False</td>\n",
       "      <td>15</td>\n",
       "      <td>BlindSeach</td>\n",
       "      <td>Simulados</td>\n",
       "      <td>Paternidad</td>\n",
       "      <td>15_BlindSeach_Simulados_Paternidad_allele</td>\n",
       "      <td>ipi-1</td>\n",
       "      <td>1:749</td>\n",
       "      <td>10000-99999</td>\n",
       "      <td>122502</td>\n",
       "      <td>F</td>\n",
       "      <td>83702</td>\n",
       "      <td>S</td>\n",
       "    </tr>\n",
       "  </tbody>\n",
       "</table>\n",
       "</div>"
      ],
      "text/plain": [
       "   Shared_Markers  k0  k1  k2  Share_allele     Value  True_positive  \\\n",
       "0              15   0   4  11            26  236354.0          False   \n",
       "1              15   0   7   8            23  184374.0          False   \n",
       "2              15   0   6   9            24   83900.6          False   \n",
       "3              15   0  10   5            20   41143.0          False   \n",
       "4              15   0   8   7            22   30327.8          False   \n",
       "\n",
       "   Marcadores    Software      Datos     Kinship  \\\n",
       "0          15  BlindSeach  Simulados  Paternidad   \n",
       "1          15  BlindSeach  Simulados  Paternidad   \n",
       "2          15  BlindSeach  Simulados  Paternidad   \n",
       "3          15  BlindSeach  Simulados  Paternidad   \n",
       "4          15  BlindSeach  Simulados  Paternidad   \n",
       "\n",
       "                                        File   Hoja  Sheet    Value_range  \\\n",
       "0  15_BlindSeach_Simulados_Paternidad_allele  ipi-1  1:749  100000-999999   \n",
       "1  15_BlindSeach_Simulados_Paternidad_allele  ipi-1  1:749  100000-999999   \n",
       "2  15_BlindSeach_Simulados_Paternidad_allele  ipi-1  1:749    10000-99999   \n",
       "3  15_BlindSeach_Simulados_Paternidad_allele  ipi-1  1:749    10000-99999   \n",
       "4  15_BlindSeach_Simulados_Paternidad_allele  ipi-1  1:749    10000-99999   \n",
       "\n",
       "   FAM_Sample_info_id FAM_Sample_info_rel  VIC_Sample_info_id  \\\n",
       "0               12102                   F               65402   \n",
       "1               23802                   S               99602   \n",
       "2               47302                   S               62402   \n",
       "3              116102                   F              116702   \n",
       "4              122502                   F               83702   \n",
       "\n",
       "  VIC_Sample_info_rel  \n",
       "0                   F  \n",
       "1                   F  \n",
       "2                   F  \n",
       "3                   F  \n",
       "4                   S  "
      ]
     },
     "execution_count": 3,
     "metadata": {},
     "output_type": "execute_result"
    }
   ],
   "source": [
    "# Exploring the data\n",
    "\n",
    "df_train.head()"
   ]
  },
  {
   "cell_type": "code",
   "execution_count": 4,
   "id": "48c7cd9e",
   "metadata": {},
   "outputs": [],
   "source": [
    "# Feature columns for the logistic regression model\n",
    "\n",
    "feature_colums = [\"Shared_Markers\", \"k0\", \"k1\", \"k2\", \"Share_allele\", \"Value\"]"
   ]
  },
  {
   "cell_type": "code",
   "execution_count": 5,
   "id": "97c465cc",
   "metadata": {},
   "outputs": [],
   "source": [
    "# Splitting data into training and testing sets\n",
    "\n",
    "x_train = df_train[feature_colums]\n",
    "y_train = df_train[\"True_positive\"]\n",
    "x_test = df_test[feature_colums]\n",
    "y_test = df_test[\"True_positive\"]"
   ]
  },
  {
   "cell_type": "code",
   "execution_count": 6,
   "id": "335d575a",
   "metadata": {},
   "outputs": [],
   "source": [
    "# Base Logistic Regression model \n",
    "\n",
    "svm_model = SVC()"
   ]
  },
  {
   "cell_type": "markdown",
   "id": "7a4f4b55",
   "metadata": {},
   "source": [
    "---"
   ]
  },
  {
   "cell_type": "markdown",
   "id": "f63c2846",
   "metadata": {},
   "source": [
    "## Máquina de soporte vectorial base con múltiples variables\n",
    "\n",
    "Modelo de SVM entrenado con hiperparámetros por defecto e impresión de la matriz de confusión."
   ]
  },
  {
   "cell_type": "code",
   "execution_count": null,
   "id": "4970ad32",
   "metadata": {},
   "outputs": [],
   "source": [
    "# Training and evaluation of the SVM model\n",
    "\n",
    "svm_model.fit(x_train, y_train)\n",
    "y_pred = svm_model.predict(x_test)\n",
    "conf_matrix = confusion_matrix(y_test, y_pred)"
   ]
  },
  {
   "cell_type": "code",
   "execution_count": 8,
   "id": "0feed368",
   "metadata": {},
   "outputs": [
    {
     "data": {
      "text/plain": [
       "<sklearn.metrics._plot.confusion_matrix.ConfusionMatrixDisplay at 0x1246904d0>"
      ]
     },
     "execution_count": 8,
     "metadata": {},
     "output_type": "execute_result"
    },
    {
     "data": {
      "image/png": "[encoded data removed]",
      "text/plain": [
       "<Figure size 640x480 with 2 Axes>"
      ]
     },
     "metadata": {},
     "output_type": "display_data"
    }
   ],
   "source": [
    "# Print the confusion matrix\n",
    "\n",
    "cm_display = ConfusionMatrixDisplay(confusion_matrix=conf_matrix, display_labels=svm_model.classes_)\n",
    "cm_display.plot(cmap=plt.cm.Blues)"
   ]
  },
  {
   "cell_type": "code",
   "execution_count": 9,
   "id": "19d39824",
   "metadata": {},
   "outputs": [
    {
     "name": "stdout",
     "output_type": "stream",
     "text": [
      "===== Metrics for Logistic Regression Model =====\n",
      "Precision: 1.0\n",
      "Recall: 0.01715686274509804\n",
      "F1 Score: 0.033734939759036145\n",
      "Accuracy: 0.9938847714033001\n",
      "ROC AUC: 0.508578431372549\n"
     ]
    }
   ],
   "source": [
    "print(\"===== Metrics for Logistic Regression Model =====\")\n",
    "print(\"Precision:\", precision_score(y_test, y_pred))\n",
    "print(\"Recall:\", recall_score(y_test, y_pred))\n",
    "print(\"F1 Score:\", f1_score(y_test, y_pred))\n",
    "print(\"Accuracy:\", accuracy_score(y_test, y_pred))\n",
    "print(\"ROC AUC:\", roc_auc_score(y_test, y_pred))"
   ]
  },
  {
   "cell_type": "markdown",
   "id": "96f6f957",
   "metadata": {},
   "source": [
    "---"
   ]
  },
  {
   "cell_type": "code",
   "execution_count": 10,
   "id": "3e90aa5b",
   "metadata": {},
   "outputs": [],
   "source": [
    "# Feature columns for the logistic regression model\n",
    "\n",
    "feature_colums = [\"k1\", \"k2\",\"Value\"]"
   ]
  },
  {
   "cell_type": "code",
   "execution_count": 11,
   "id": "e4351b76",
   "metadata": {},
   "outputs": [],
   "source": [
    "# Splitting data into training and testing sets\n",
    "\n",
    "x_train = df_train[feature_colums]\n",
    "y_train = df_train[\"True_positive\"]\n",
    "x_test = df_test[feature_colums]\n",
    "y_test = df_test[\"True_positive\"]"
   ]
  },
  {
   "cell_type": "code",
   "execution_count": 12,
   "id": "40682164",
   "metadata": {},
   "outputs": [],
   "source": [
    "# Base Logistic Regression model \n",
    "\n",
    "svm_model = SVC()"
   ]
  },
  {
   "cell_type": "code",
   "execution_count": 13,
   "id": "983e3f5b",
   "metadata": {},
   "outputs": [],
   "source": [
    "# Training and evaluation of the logistic regression model\n",
    "\n",
    "svm_model.fit(x_train, y_train)\n",
    "y_pred = svm_model.predict(x_test)\n",
    "conf_matrix = confusion_matrix(y_test, y_pred)"
   ]
  },
  {
   "cell_type": "code",
   "execution_count": 14,
   "id": "dd0234f5",
   "metadata": {},
   "outputs": [
    {
     "data": {
      "text/plain": [
       "<sklearn.metrics._plot.confusion_matrix.ConfusionMatrixDisplay at 0x124686c50>"
      ]
     },
     "execution_count": 14,
     "metadata": {},
     "output_type": "execute_result"
    },
    {
     "data": {
      "image/png": "[encoded data removed]",
      "text/plain": [
       "<Figure size 640x480 with 2 Axes>"
      ]
     },
     "metadata": {},
     "output_type": "display_data"
    }
   ],
   "source": [
    "# Print the confusion matrix\n",
    "\n",
    "cm_display = ConfusionMatrixDisplay(confusion_matrix=conf_matrix, display_labels=svm_model.classes_)\n",
    "cm_display.plot(cmap=plt.cm.Blues)"
   ]
  },
  {
   "cell_type": "code",
   "execution_count": 15,
   "id": "4ff96ec0",
   "metadata": {},
   "outputs": [
    {
     "name": "stdout",
     "output_type": "stream",
     "text": [
      "===== Metrics for Logistic Regression Model =====\n",
      "Precision: 1.0\n",
      "Recall: 0.01715686274509804\n",
      "F1 Score: 0.033734939759036145\n",
      "Accuracy: 0.9938847714033001\n",
      "ROC AUC: 0.508578431372549\n"
     ]
    }
   ],
   "source": [
    "print(\"===== Metrics for Logistic Regression Model =====\")\n",
    "print(\"Precision:\", precision_score(y_test, y_pred))\n",
    "print(\"Recall:\", recall_score(y_test, y_pred))\n",
    "print(\"F1 Score:\", f1_score(y_test, y_pred))\n",
    "print(\"Accuracy:\", accuracy_score(y_test, y_pred))\n",
    "print(\"ROC AUC:\", roc_auc_score(y_test, y_pred))"
   ]
  }
 ],
 "metadata": {
  "kernelspec": {
   "display_name": ".venv",
   "language": "python",
   "name": "python3"
  },
  "language_info": {
   "codemirror_mode": {
    "name": "ipython",
    "version": 3
   },
   "file_extension": ".py",
   "mimetype": "text/x-python",
   "name": "python",
   "nbconvert_exporter": "python",
   "pygments_lexer": "ipython3",
   "version": "3.11.13"
  }
 },
 "nbformat": 4,
 "nbformat_minor": 5
}
