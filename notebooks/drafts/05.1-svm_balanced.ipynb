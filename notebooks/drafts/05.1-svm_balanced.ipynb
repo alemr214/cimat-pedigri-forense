{
 "cells": [
  {
   "cell_type": "markdown",
   "id": "29855a43",
   "metadata": {},
   "source": [
    "## Configuración de la sección\n",
    "\n",
    "En esta sección se realiza lo siguiente:\n",
    "- Importado de las librerías necesarias para trabajar en todo el *notebook*.\n",
    "- Exploración de los datos.\n",
    "- Separación de los datos en entrenamiento y pruebas.\n",
    "- Selección de las variables X y Y para el entrenamiento del modelo."
   ]
  },
  {
   "cell_type": "code",
   "execution_count": null,
   "id": "470c061e",
   "metadata": {},
   "outputs": [],
   "source": [
    "# Imports\n",
    "import pandas as pd\n",
    "from sklearn.svm import SVC\n",
    "from sklearn.metrics import confusion_matrix, ConfusionMatrixDisplay, accuracy_score, roc_auc_score, precision_score, recall_score, f1_score\n",
    "import matplotlib.pyplot as plt\n",
    "import warnings\n",
    "warnings.filterwarnings(\"ignore\")"
   ]
  },
  {
   "cell_type": "code",
   "execution_count": 11,
   "id": "541419e6",
   "metadata": {},
   "outputs": [],
   "source": [
    "# Reading the CSV files with pandas\n",
    "\n",
    "df_train = pd.read_csv(\"../data/processed/balanced/train.csv\")\n",
    "df_test = pd.read_csv(\"../data/processed/balanced/test.csv\")"
   ]
  },
  {
   "cell_type": "code",
   "execution_count": 12,
   "id": "a3cab0f6",
   "metadata": {},
   "outputs": [
    {
     "data": {
      "application/vnd.microsoft.datawrangler.viewer.v0+json": {
       "columns": [
        {
         "name": "index",
         "rawType": "int64",
         "type": "integer"
        },
        {
         "name": "Shared_Markers",
         "rawType": "int64",
         "type": "integer"
        },
        {
         "name": "k0",
         "rawType": "int64",
         "type": "integer"
        },
        {
         "name": "k1",
         "rawType": "int64",
         "type": "integer"
        },
        {
         "name": "k2",
         "rawType": "int64",
         "type": "integer"
        },
        {
         "name": "Share_allele",
         "rawType": "int64",
         "type": "integer"
        },
        {
         "name": "Value",
         "rawType": "float64",
         "type": "float"
        },
        {
         "name": "True_positive",
         "rawType": "bool",
         "type": "boolean"
        },
        {
         "name": "Marcadores",
         "rawType": "int64",
         "type": "integer"
        },
        {
         "name": "Software",
         "rawType": "object",
         "type": "string"
        },
        {
         "name": "Datos",
         "rawType": "object",
         "type": "string"
        },
        {
         "name": "Kinship",
         "rawType": "object",
         "type": "string"
        },
        {
         "name": "File",
         "rawType": "object",
         "type": "string"
        },
        {
         "name": "Hoja",
         "rawType": "object",
         "type": "string"
        },
        {
         "name": "Sheet",
         "rawType": "object",
         "type": "string"
        },
        {
         "name": "Value_range",
         "rawType": "object",
         "type": "string"
        },
        {
         "name": "FAM_Sample_info_id",
         "rawType": "int64",
         "type": "integer"
        },
        {
         "name": "FAM_Sample_info_rel",
         "rawType": "object",
         "type": "string"
        },
        {
         "name": "VIC_Sample_info_id",
         "rawType": "int64",
         "type": "integer"
        },
        {
         "name": "VIC_Sample_info_rel",
         "rawType": "object",
         "type": "string"
        }
       ],
       "ref": "dc0fd176-e01b-469a-b2e1-9e36f618f002",
       "rows": [
        [
         "0",
         "13",
         "2",
         "5",
         "8",
         "21",
         "70.4225",
         "False",
         "15",
         "BlindSearch",
         "Simulados",
         "Hermandad",
         "15_BlindSearch_Simulados_Hermandad_allele",
         "isib-97",
         "97:653",
         "0-99",
         "133602",
         "S",
         "140801",
         "U"
        ],
        [
         "1",
         "10",
         "5",
         "5",
         "5",
         "15",
         "2.0",
         "False",
         "15",
         "ScreenMatch",
         "Simulados",
         "Hermandad",
         "15_ScreenMatch_Simulados_Hermandad_allele",
         "Process_LISIB-60",
         "60:690",
         "0-99",
         "147301",
         "S",
         "120602",
         "S"
        ],
        [
         "2",
         "14",
         "1",
         "8",
         "6",
         "20",
         "5005.74",
         "True",
         "15",
         "BlindSearch",
         "Simulados",
         "Hermandad",
         "15_BlindSearch_Simulados_Hermandad_allele",
         "isib-30",
         "30:720",
         "1000-9999",
         "48701",
         "U",
         "48701",
         "S"
        ],
        [
         "3",
         "11",
         "4",
         "3",
         "8",
         "19",
         "3.0",
         "False",
         "15",
         "ScreenMatch",
         "Simulados",
         "Hermandad",
         "15_ScreenMatch_Simulados_Hermandad_allele",
         "Process_lisib-375",
         "375:375",
         "0-99",
         "84302",
         "U",
         "100701",
         "S"
        ],
        [
         "4",
         "15",
         "0",
         "5",
         "10",
         "25",
         "5000.0",
         "True",
         "15",
         "ScreenMatch",
         "Simulados",
         "Paternidad",
         "15_ScreenMatch_Simulados_Paternidad_allele",
         "Process_LIPI-97",
         "97:653",
         "1000-9999",
         "3201",
         "S",
         "3201",
         "F"
        ]
       ],
       "shape": {
        "columns": 19,
        "rows": 5
       }
      },
      "text/html": [
       "<div>\n",
       "<style scoped>\n",
       "    .dataframe tbody tr th:only-of-type {\n",
       "        vertical-align: middle;\n",
       "    }\n",
       "\n",
       "    .dataframe tbody tr th {\n",
       "        vertical-align: top;\n",
       "    }\n",
       "\n",
       "    .dataframe thead th {\n",
       "        text-align: right;\n",
       "    }\n",
       "</style>\n",
       "<table border=\"1\" class=\"dataframe\">\n",
       "  <thead>\n",
       "    <tr style=\"text-align: right;\">\n",
       "      <th></th>\n",
       "      <th>Shared_Markers</th>\n",
       "      <th>k0</th>\n",
       "      <th>k1</th>\n",
       "      <th>k2</th>\n",
       "      <th>Share_allele</th>\n",
       "      <th>Value</th>\n",
       "      <th>True_positive</th>\n",
       "      <th>Marcadores</th>\n",
       "      <th>Software</th>\n",
       "      <th>Datos</th>\n",
       "      <th>Kinship</th>\n",
       "      <th>File</th>\n",
       "      <th>Hoja</th>\n",
       "      <th>Sheet</th>\n",
       "      <th>Value_range</th>\n",
       "      <th>FAM_Sample_info_id</th>\n",
       "      <th>FAM_Sample_info_rel</th>\n",
       "      <th>VIC_Sample_info_id</th>\n",
       "      <th>VIC_Sample_info_rel</th>\n",
       "    </tr>\n",
       "  </thead>\n",
       "  <tbody>\n",
       "    <tr>\n",
       "      <th>0</th>\n",
       "      <td>13</td>\n",
       "      <td>2</td>\n",
       "      <td>5</td>\n",
       "      <td>8</td>\n",
       "      <td>21</td>\n",
       "      <td>70.4225</td>\n",
       "      <td>False</td>\n",
       "      <td>15</td>\n",
       "      <td>BlindSearch</td>\n",
       "      <td>Simulados</td>\n",
       "      <td>Hermandad</td>\n",
       "      <td>15_BlindSearch_Simulados_Hermandad_allele</td>\n",
       "      <td>isib-97</td>\n",
       "      <td>97:653</td>\n",
       "      <td>0-99</td>\n",
       "      <td>133602</td>\n",
       "      <td>S</td>\n",
       "      <td>140801</td>\n",
       "      <td>U</td>\n",
       "    </tr>\n",
       "    <tr>\n",
       "      <th>1</th>\n",
       "      <td>10</td>\n",
       "      <td>5</td>\n",
       "      <td>5</td>\n",
       "      <td>5</td>\n",
       "      <td>15</td>\n",
       "      <td>2.0000</td>\n",
       "      <td>False</td>\n",
       "      <td>15</td>\n",
       "      <td>ScreenMatch</td>\n",
       "      <td>Simulados</td>\n",
       "      <td>Hermandad</td>\n",
       "      <td>15_ScreenMatch_Simulados_Hermandad_allele</td>\n",
       "      <td>Process_LISIB-60</td>\n",
       "      <td>60:690</td>\n",
       "      <td>0-99</td>\n",
       "      <td>147301</td>\n",
       "      <td>S</td>\n",
       "      <td>120602</td>\n",
       "      <td>S</td>\n",
       "    </tr>\n",
       "    <tr>\n",
       "      <th>2</th>\n",
       "      <td>14</td>\n",
       "      <td>1</td>\n",
       "      <td>8</td>\n",
       "      <td>6</td>\n",
       "      <td>20</td>\n",
       "      <td>5005.7400</td>\n",
       "      <td>True</td>\n",
       "      <td>15</td>\n",
       "      <td>BlindSearch</td>\n",
       "      <td>Simulados</td>\n",
       "      <td>Hermandad</td>\n",
       "      <td>15_BlindSearch_Simulados_Hermandad_allele</td>\n",
       "      <td>isib-30</td>\n",
       "      <td>30:720</td>\n",
       "      <td>1000-9999</td>\n",
       "      <td>48701</td>\n",
       "      <td>U</td>\n",
       "      <td>48701</td>\n",
       "      <td>S</td>\n",
       "    </tr>\n",
       "    <tr>\n",
       "      <th>3</th>\n",
       "      <td>11</td>\n",
       "      <td>4</td>\n",
       "      <td>3</td>\n",
       "      <td>8</td>\n",
       "      <td>19</td>\n",
       "      <td>3.0000</td>\n",
       "      <td>False</td>\n",
       "      <td>15</td>\n",
       "      <td>ScreenMatch</td>\n",
       "      <td>Simulados</td>\n",
       "      <td>Hermandad</td>\n",
       "      <td>15_ScreenMatch_Simulados_Hermandad_allele</td>\n",
       "      <td>Process_lisib-375</td>\n",
       "      <td>375:375</td>\n",
       "      <td>0-99</td>\n",
       "      <td>84302</td>\n",
       "      <td>U</td>\n",
       "      <td>100701</td>\n",
       "      <td>S</td>\n",
       "    </tr>\n",
       "    <tr>\n",
       "      <th>4</th>\n",
       "      <td>15</td>\n",
       "      <td>0</td>\n",
       "      <td>5</td>\n",
       "      <td>10</td>\n",
       "      <td>25</td>\n",
       "      <td>5000.0000</td>\n",
       "      <td>True</td>\n",
       "      <td>15</td>\n",
       "      <td>ScreenMatch</td>\n",
       "      <td>Simulados</td>\n",
       "      <td>Paternidad</td>\n",
       "      <td>15_ScreenMatch_Simulados_Paternidad_allele</td>\n",
       "      <td>Process_LIPI-97</td>\n",
       "      <td>97:653</td>\n",
       "      <td>1000-9999</td>\n",
       "      <td>3201</td>\n",
       "      <td>S</td>\n",
       "      <td>3201</td>\n",
       "      <td>F</td>\n",
       "    </tr>\n",
       "  </tbody>\n",
       "</table>\n",
       "</div>"
      ],
      "text/plain": [
       "   Shared_Markers  k0  k1  k2  Share_allele      Value  True_positive  \\\n",
       "0              13   2   5   8            21    70.4225          False   \n",
       "1              10   5   5   5            15     2.0000          False   \n",
       "2              14   1   8   6            20  5005.7400           True   \n",
       "3              11   4   3   8            19     3.0000          False   \n",
       "4              15   0   5  10            25  5000.0000           True   \n",
       "\n",
       "   Marcadores     Software      Datos     Kinship  \\\n",
       "0          15  BlindSearch  Simulados   Hermandad   \n",
       "1          15  ScreenMatch  Simulados   Hermandad   \n",
       "2          15  BlindSearch  Simulados   Hermandad   \n",
       "3          15  ScreenMatch  Simulados   Hermandad   \n",
       "4          15  ScreenMatch  Simulados  Paternidad   \n",
       "\n",
       "                                         File               Hoja    Sheet  \\\n",
       "0   15_BlindSearch_Simulados_Hermandad_allele            isib-97   97:653   \n",
       "1   15_ScreenMatch_Simulados_Hermandad_allele   Process_LISIB-60   60:690   \n",
       "2   15_BlindSearch_Simulados_Hermandad_allele            isib-30   30:720   \n",
       "3   15_ScreenMatch_Simulados_Hermandad_allele  Process_lisib-375  375:375   \n",
       "4  15_ScreenMatch_Simulados_Paternidad_allele    Process_LIPI-97   97:653   \n",
       "\n",
       "  Value_range  FAM_Sample_info_id FAM_Sample_info_rel  VIC_Sample_info_id  \\\n",
       "0        0-99              133602                   S              140801   \n",
       "1        0-99              147301                   S              120602   \n",
       "2   1000-9999               48701                   U               48701   \n",
       "3        0-99               84302                   U              100701   \n",
       "4   1000-9999                3201                   S                3201   \n",
       "\n",
       "  VIC_Sample_info_rel  \n",
       "0                   U  \n",
       "1                   S  \n",
       "2                   S  \n",
       "3                   S  \n",
       "4                   F  "
      ]
     },
     "execution_count": 12,
     "metadata": {},
     "output_type": "execute_result"
    }
   ],
   "source": [
    "# Exploring the data\n",
    "\n",
    "df_train.head()"
   ]
  },
  {
   "cell_type": "code",
   "execution_count": 13,
   "id": "48c7cd9e",
   "metadata": {},
   "outputs": [],
   "source": [
    "# Feature columns for the logistic regression model\n",
    "\n",
    "feature_colums = [\"Shared_Markers\", \"k0\", \"k1\", \"k2\", \"Share_allele\", \"Value\"]"
   ]
  },
  {
   "cell_type": "code",
   "execution_count": 14,
   "id": "97c465cc",
   "metadata": {},
   "outputs": [],
   "source": [
    "# Splitting data into training and testing sets\n",
    "\n",
    "x_train = df_train[feature_colums]\n",
    "y_train = df_train[\"True_positive\"]\n",
    "x_test = df_test[feature_colums]\n",
    "y_test = df_test[\"True_positive\"]"
   ]
  },
  {
   "cell_type": "code",
   "execution_count": 15,
   "id": "335d575a",
   "metadata": {},
   "outputs": [],
   "source": [
    "# Base Logistic Regression model \n",
    "\n",
    "svm_model = SVC()"
   ]
  },
  {
   "cell_type": "markdown",
   "id": "7a4f4b55",
   "metadata": {},
   "source": [
    "---"
   ]
  },
  {
   "cell_type": "markdown",
   "id": "f63c2846",
   "metadata": {},
   "source": [
    "## Máquina de soporte vectorial base con múltiples variables\n",
    "\n",
    "Modelo de SVM entrenado con hiperparámetros por defecto e impresión de la matriz de confusión."
   ]
  },
  {
   "cell_type": "code",
   "execution_count": 16,
   "id": "4970ad32",
   "metadata": {},
   "outputs": [],
   "source": [
    "# Training and evaluation of the logistic regression model\n",
    "\n",
    "svm_model.fit(x_train, y_train)\n",
    "y_pred = svm_model.predict(x_test)\n",
    "conf_matrix = confusion_matrix(y_test, y_pred)"
   ]
  },
  {
   "cell_type": "code",
   "execution_count": 17,
   "id": "0feed368",
   "metadata": {},
   "outputs": [
    {
     "data": {
      "text/plain": [
       "<sklearn.metrics._plot.confusion_matrix.ConfusionMatrixDisplay at 0x1590fdf10>"
      ]
     },
     "execution_count": 17,
     "metadata": {},
     "output_type": "execute_result"
    },
    {
     "data": {
      "image/png": "[encoded data removed]",
      "text/plain": [
       "<Figure size 640x480 with 2 Axes>"
      ]
     },
     "metadata": {},
     "output_type": "display_data"
    }
   ],
   "source": [
    "# Print the confusion matrix\n",
    "\n",
    "cm_display = ConfusionMatrixDisplay(confusion_matrix=conf_matrix, display_labels=svm_model.classes_)\n",
    "cm_display.plot(cmap=plt.cm.Blues)"
   ]
  },
  {
   "cell_type": "code",
   "execution_count": 18,
   "id": "19d39824",
   "metadata": {},
   "outputs": [
    {
     "name": "stdout",
     "output_type": "stream",
     "text": [
      "===== Metrics for Logistic Regression Model =====\n",
      "Precision: 0.0\n",
      "Recall: 0.0\n",
      "F1 Score: 0.0\n",
      "Accuracy: 0.9875123885034688\n",
      "ROC AUC: 0.5\n"
     ]
    }
   ],
   "source": [
    "print(\"===== Metrics for Logistic Regression Model =====\")\n",
    "print(\"Precision:\", precision_score(y_test, y_pred))\n",
    "print(\"Recall:\", recall_score(y_test, y_pred))\n",
    "print(\"F1 Score:\", f1_score(y_test, y_pred))\n",
    "print(\"Accuracy:\", accuracy_score(y_test, y_pred))\n",
    "print(\"ROC AUC:\", roc_auc_score(y_test, y_pred))"
   ]
  },
  {
   "cell_type": "markdown",
   "id": "96f6f957",
   "metadata": {},
   "source": [
    "---"
   ]
  },
  {
   "cell_type": "code",
   "execution_count": 19,
   "id": "3e90aa5b",
   "metadata": {},
   "outputs": [],
   "source": [
    "# Feature columns for the logistic regression model\n",
    "\n",
    "feature_colums = [\"k1\", \"k2\",\"Value\"]"
   ]
  },
  {
   "cell_type": "code",
   "execution_count": 20,
   "id": "e4351b76",
   "metadata": {},
   "outputs": [],
   "source": [
    "# Splitting data into training and testing sets\n",
    "\n",
    "x_train = df_train[feature_colums]\n",
    "y_train = df_train[\"True_positive\"]\n",
    "x_test = df_test[feature_colums]\n",
    "y_test = df_test[\"True_positive\"]"
   ]
  },
  {
   "cell_type": "code",
   "execution_count": 21,
   "id": "40682164",
   "metadata": {},
   "outputs": [],
   "source": [
    "# Base Logistic Regression model \n",
    "\n",
    "svm_model = SVC()"
   ]
  },
  {
   "cell_type": "code",
   "execution_count": 22,
   "id": "983e3f5b",
   "metadata": {},
   "outputs": [],
   "source": [
    "# Training and evaluation of the logistic regression model\n",
    "\n",
    "svm_model.fit(x_train, y_train)\n",
    "y_pred = svm_model.predict(x_test)\n",
    "conf_matrix = confusion_matrix(y_test, y_pred)"
   ]
  },
  {
   "cell_type": "code",
   "execution_count": 23,
   "id": "dd0234f5",
   "metadata": {},
   "outputs": [
    {
     "data": {
      "text/plain": [
       "<sklearn.metrics._plot.confusion_matrix.ConfusionMatrixDisplay at 0x136ba5090>"
      ]
     },
     "execution_count": 23,
     "metadata": {},
     "output_type": "execute_result"
    },
    {
     "data": {
      "image/png": "[encoded data removed]",
      "text/plain": [
       "<Figure size 640x480 with 2 Axes>"
      ]
     },
     "metadata": {},
     "output_type": "display_data"
    }
   ],
   "source": [
    "# Print the confusion matrix\n",
    "\n",
    "cm_display = ConfusionMatrixDisplay(confusion_matrix=conf_matrix, display_labels=svm_model.classes_)\n",
    "cm_display.plot(cmap=plt.cm.Blues)"
   ]
  },
  {
   "cell_type": "code",
   "execution_count": 24,
   "id": "4ff96ec0",
   "metadata": {},
   "outputs": [
    {
     "name": "stdout",
     "output_type": "stream",
     "text": [
      "===== Metrics for Logistic Regression Model =====\n",
      "Precision: 0.0\n",
      "Recall: 0.0\n",
      "F1 Score: 0.0\n",
      "Accuracy: 0.9875123885034688\n",
      "ROC AUC: 0.5\n"
     ]
    }
   ],
   "source": [
    "print(\"===== Metrics for Logistic Regression Model =====\")\n",
    "print(\"Precision:\", precision_score(y_test, y_pred))\n",
    "print(\"Recall:\", recall_score(y_test, y_pred))\n",
    "print(\"F1 Score:\", f1_score(y_test, y_pred))\n",
    "print(\"Accuracy:\", accuracy_score(y_test, y_pred))\n",
    "print(\"ROC AUC:\", roc_auc_score(y_test, y_pred))"
   ]
  }
 ],
 "metadata": {
  "kernelspec": {
   "display_name": ".venv",
   "language": "python",
   "name": "python3"
  },
  "language_info": {
   "codemirror_mode": {
    "name": "ipython",
    "version": 3
   },
   "file_extension": ".py",
   "mimetype": "text/x-python",
   "name": "python",
   "nbconvert_exporter": "python",
   "pygments_lexer": "ipython3",
   "version": "3.11.13"
  }
 },
 "nbformat": 4,
 "nbformat_minor": 5
}
