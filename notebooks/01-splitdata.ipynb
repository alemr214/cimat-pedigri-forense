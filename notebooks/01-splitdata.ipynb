{
 "cells": [
  {
   "cell_type": "markdown",
   "id": "14458208",
   "metadata": {},
   "source": [
    "# 01. Data Split"
   ]
  },
  {
   "cell_type": "code",
   "execution_count": 82,
   "id": "8295da0b",
   "metadata": {},
   "outputs": [],
   "source": [
    "import numpy as np\n",
    "import pandas as pd\n",
    "import matplotlib.pyplot as plt\n",
    "import random"
   ]
  },
  {
   "cell_type": "code",
   "execution_count": 83,
   "id": "97bf199a",
   "metadata": {},
   "outputs": [],
   "source": [
    "rnd_nbr = 42\n",
    "prop_volumen = 0.7"
   ]
  },
  {
   "cell_type": "markdown",
   "id": "1fa4e4b8",
   "metadata": {},
   "source": [
    "## Read Data"
   ]
  },
  {
   "cell_type": "code",
   "execution_count": 84,
   "id": "6bdcceb9",
   "metadata": {},
   "outputs": [],
   "source": [
    "db = pd.read_excel(\"../data/raw/archivo_combinado.xlsx\")"
   ]
  },
  {
   "cell_type": "markdown",
   "id": "0c2f1b5f",
   "metadata": {},
   "source": [
    "### Preprocesamiento"
   ]
  },
  {
   "cell_type": "code",
   "execution_count": 85,
   "id": "3cd4c878",
   "metadata": {},
   "outputs": [],
   "source": [
    "db = db[db.Kinship == \"Paternidad\"]"
   ]
  },
  {
   "cell_type": "code",
   "execution_count": 86,
   "id": "05ee351d",
   "metadata": {},
   "outputs": [],
   "source": [
    "uniqueness_features = [\"FAM_Sample_info\", \"VIC_Sample_info\", \"Software\", \"Datos\"]\n",
    "db.drop_duplicates(subset =  uniqueness_features, inplace = True)"
   ]
  },
  {
   "cell_type": "code",
   "execution_count": 87,
   "id": "bdd6c247",
   "metadata": {},
   "outputs": [],
   "source": [
    "# Split compund columns\n",
    "db[['FAM_Sample_info_id', 'FAM_Sample_info_rel']] = db['FAM_Sample_info'].str.split(' ', n = 1, expand = True)\n",
    "db[['VIC_Sample_info_id', 'VIC_Sample_info_rel']] = db['VIC_Sample_info'].str.split(' ', n = 1, expand = True)\n",
    "db.drop(['FAM_Sample_info', 'VIC_Sample_info'], axis = 1, inplace = True)"
   ]
  },
  {
   "cell_type": "code",
   "execution_count": 88,
   "id": "d036f2d2",
   "metadata": {},
   "outputs": [],
   "source": [
    "# Eliminar los que no cumplan con la aritmética\n",
    "db = db[db.k0 + db.k1 + db.k2 == db.Marcadores]"
   ]
  },
  {
   "cell_type": "markdown",
   "id": "99916d19",
   "metadata": {},
   "source": [
    "### Aplicar algunas transformaciones"
   ]
  },
  {
   "cell_type": "code",
   "execution_count": 89,
   "id": "44b82df7",
   "metadata": {},
   "outputs": [],
   "source": [
    "db[\"True_positive\"] = np.where(db[\"True_positive\"] == False, 0, 1)"
   ]
  },
  {
   "cell_type": "code",
   "execution_count": 90,
   "id": "bb0112d3",
   "metadata": {},
   "outputs": [],
   "source": [
    "db[\"ValueLog10\"] = np.log10(db[\"Value\"])"
   ]
  },
  {
   "cell_type": "code",
   "execution_count": 91,
   "id": "102a64bb",
   "metadata": {},
   "outputs": [
    {
     "data": {
      "text/html": [
       "<div>\n",
       "<style scoped>\n",
       "    .dataframe tbody tr th:only-of-type {\n",
       "        vertical-align: middle;\n",
       "    }\n",
       "\n",
       "    .dataframe tbody tr th {\n",
       "        vertical-align: top;\n",
       "    }\n",
       "\n",
       "    .dataframe thead th {\n",
       "        text-align: right;\n",
       "    }\n",
       "</style>\n",
       "<table border=\"1\" class=\"dataframe\">\n",
       "  <thead>\n",
       "    <tr style=\"text-align: right;\">\n",
       "      <th></th>\n",
       "      <th>Shared_Markers</th>\n",
       "      <th>k0</th>\n",
       "      <th>k1</th>\n",
       "      <th>k2</th>\n",
       "      <th>Share_allele</th>\n",
       "      <th>Value</th>\n",
       "      <th>True_positive</th>\n",
       "      <th>Marcadores</th>\n",
       "      <th>Software</th>\n",
       "      <th>Datos</th>\n",
       "      <th>Kinship</th>\n",
       "      <th>File</th>\n",
       "      <th>Hoja</th>\n",
       "      <th>Sheet</th>\n",
       "      <th>Value_range</th>\n",
       "      <th>FAM_Sample_info_id</th>\n",
       "      <th>FAM_Sample_info_rel</th>\n",
       "      <th>VIC_Sample_info_id</th>\n",
       "      <th>VIC_Sample_info_rel</th>\n",
       "      <th>ValueLog10</th>\n",
       "    </tr>\n",
       "  </thead>\n",
       "  <tbody>\n",
       "    <tr>\n",
       "      <th>0</th>\n",
       "      <td>15</td>\n",
       "      <td>0</td>\n",
       "      <td>4</td>\n",
       "      <td>11</td>\n",
       "      <td>26</td>\n",
       "      <td>236354.0</td>\n",
       "      <td>0</td>\n",
       "      <td>15</td>\n",
       "      <td>BlindSeach</td>\n",
       "      <td>Simulados</td>\n",
       "      <td>Paternidad</td>\n",
       "      <td>15_BlindSeach_Simulados_Paternidad_allele</td>\n",
       "      <td>ipi-1</td>\n",
       "      <td>1:749</td>\n",
       "      <td>100000-999999</td>\n",
       "      <td>012102</td>\n",
       "      <td>F</td>\n",
       "      <td>065402</td>\n",
       "      <td>F</td>\n",
       "      <td>5.373563</td>\n",
       "    </tr>\n",
       "    <tr>\n",
       "      <th>1</th>\n",
       "      <td>15</td>\n",
       "      <td>0</td>\n",
       "      <td>7</td>\n",
       "      <td>8</td>\n",
       "      <td>23</td>\n",
       "      <td>184374.0</td>\n",
       "      <td>0</td>\n",
       "      <td>15</td>\n",
       "      <td>BlindSeach</td>\n",
       "      <td>Simulados</td>\n",
       "      <td>Paternidad</td>\n",
       "      <td>15_BlindSeach_Simulados_Paternidad_allele</td>\n",
       "      <td>ipi-1</td>\n",
       "      <td>1:749</td>\n",
       "      <td>100000-999999</td>\n",
       "      <td>023802</td>\n",
       "      <td>S</td>\n",
       "      <td>099602</td>\n",
       "      <td>F</td>\n",
       "      <td>5.265700</td>\n",
       "    </tr>\n",
       "    <tr>\n",
       "      <th>2</th>\n",
       "      <td>15</td>\n",
       "      <td>0</td>\n",
       "      <td>6</td>\n",
       "      <td>9</td>\n",
       "      <td>24</td>\n",
       "      <td>83900.6</td>\n",
       "      <td>0</td>\n",
       "      <td>15</td>\n",
       "      <td>BlindSeach</td>\n",
       "      <td>Simulados</td>\n",
       "      <td>Paternidad</td>\n",
       "      <td>15_BlindSeach_Simulados_Paternidad_allele</td>\n",
       "      <td>ipi-1</td>\n",
       "      <td>1:749</td>\n",
       "      <td>10000-99999</td>\n",
       "      <td>047302</td>\n",
       "      <td>S</td>\n",
       "      <td>062402</td>\n",
       "      <td>F</td>\n",
       "      <td>4.923765</td>\n",
       "    </tr>\n",
       "    <tr>\n",
       "      <th>3</th>\n",
       "      <td>15</td>\n",
       "      <td>0</td>\n",
       "      <td>10</td>\n",
       "      <td>5</td>\n",
       "      <td>20</td>\n",
       "      <td>41143.0</td>\n",
       "      <td>0</td>\n",
       "      <td>15</td>\n",
       "      <td>BlindSeach</td>\n",
       "      <td>Simulados</td>\n",
       "      <td>Paternidad</td>\n",
       "      <td>15_BlindSeach_Simulados_Paternidad_allele</td>\n",
       "      <td>ipi-1</td>\n",
       "      <td>1:749</td>\n",
       "      <td>10000-99999</td>\n",
       "      <td>116102</td>\n",
       "      <td>F</td>\n",
       "      <td>116702</td>\n",
       "      <td>F</td>\n",
       "      <td>4.614296</td>\n",
       "    </tr>\n",
       "    <tr>\n",
       "      <th>4</th>\n",
       "      <td>15</td>\n",
       "      <td>0</td>\n",
       "      <td>8</td>\n",
       "      <td>7</td>\n",
       "      <td>22</td>\n",
       "      <td>30327.8</td>\n",
       "      <td>0</td>\n",
       "      <td>15</td>\n",
       "      <td>BlindSeach</td>\n",
       "      <td>Simulados</td>\n",
       "      <td>Paternidad</td>\n",
       "      <td>15_BlindSeach_Simulados_Paternidad_allele</td>\n",
       "      <td>ipi-1</td>\n",
       "      <td>1:749</td>\n",
       "      <td>10000-99999</td>\n",
       "      <td>122502</td>\n",
       "      <td>F</td>\n",
       "      <td>083702</td>\n",
       "      <td>S</td>\n",
       "      <td>4.481841</td>\n",
       "    </tr>\n",
       "  </tbody>\n",
       "</table>\n",
       "</div>"
      ],
      "text/plain": [
       "   Shared_Markers  k0  k1  k2  Share_allele     Value  True_positive  \\\n",
       "0              15   0   4  11            26  236354.0              0   \n",
       "1              15   0   7   8            23  184374.0              0   \n",
       "2              15   0   6   9            24   83900.6              0   \n",
       "3              15   0  10   5            20   41143.0              0   \n",
       "4              15   0   8   7            22   30327.8              0   \n",
       "\n",
       "   Marcadores    Software      Datos     Kinship  \\\n",
       "0          15  BlindSeach  Simulados  Paternidad   \n",
       "1          15  BlindSeach  Simulados  Paternidad   \n",
       "2          15  BlindSeach  Simulados  Paternidad   \n",
       "3          15  BlindSeach  Simulados  Paternidad   \n",
       "4          15  BlindSeach  Simulados  Paternidad   \n",
       "\n",
       "                                        File   Hoja  Sheet    Value_range  \\\n",
       "0  15_BlindSeach_Simulados_Paternidad_allele  ipi-1  1:749  100000-999999   \n",
       "1  15_BlindSeach_Simulados_Paternidad_allele  ipi-1  1:749  100000-999999   \n",
       "2  15_BlindSeach_Simulados_Paternidad_allele  ipi-1  1:749    10000-99999   \n",
       "3  15_BlindSeach_Simulados_Paternidad_allele  ipi-1  1:749    10000-99999   \n",
       "4  15_BlindSeach_Simulados_Paternidad_allele  ipi-1  1:749    10000-99999   \n",
       "\n",
       "  FAM_Sample_info_id FAM_Sample_info_rel VIC_Sample_info_id  \\\n",
       "0             012102                   F             065402   \n",
       "1             023802                   S             099602   \n",
       "2             047302                   S             062402   \n",
       "3             116102                   F             116702   \n",
       "4             122502                   F             083702   \n",
       "\n",
       "  VIC_Sample_info_rel  ValueLog10  \n",
       "0                   F    5.373563  \n",
       "1                   F    5.265700  \n",
       "2                   F    4.923765  \n",
       "3                   F    4.614296  \n",
       "4                   S    4.481841  "
      ]
     },
     "execution_count": 91,
     "metadata": {},
     "output_type": "execute_result"
    }
   ],
   "source": [
    "db.head(5)"
   ]
  },
  {
   "cell_type": "markdown",
   "id": "e10bf028",
   "metadata": {},
   "source": [
    "## Partición\n",
    "\n",
    "Primero se calculan las proporciones para lograr una proporción de 70:30 en volumen entre entrenamiento y prueba."
   ]
  },
  {
   "cell_type": "code",
   "execution_count": 92,
   "id": "329a7c9f",
   "metadata": {},
   "outputs": [],
   "source": [
    "# Guardar los datos simulados y reales en dataframes distintos...\n",
    "db_simulados = db[db.Datos == \"Simulados\"]\n",
    "db_real = db[db.Datos == \"Real\"]"
   ]
  },
  {
   "cell_type": "code",
   "execution_count": 93,
   "id": "9de476b6",
   "metadata": {},
   "outputs": [
    {
     "name": "stdout",
     "output_type": "stream",
     "text": [
      "La proporción ideal para partir es 0.8857316980269673.\n"
     ]
    }
   ],
   "source": [
    "counts = db_simulados['True_positive'].value_counts()\n",
    "train_frac = 1 / (2 * ((1-prop_volumen)/prop_volumen) * (counts[1]/(counts[0] + counts[1])) + 1)\n",
    "print(f\"La proporción ideal para partir es {train_frac}.\")"
   ]
  },
  {
   "cell_type": "markdown",
   "id": "748d5c92",
   "metadata": {},
   "source": [
    "Una vez hecho el cálculo se hace la partición..."
   ]
  },
  {
   "cell_type": "code",
   "execution_count": 94,
   "id": "980cc014",
   "metadata": {},
   "outputs": [],
   "source": [
    "sim_samples = len(db_simulados)\n",
    "sim_samples_train = int(sim_samples * train_frac)"
   ]
  },
  {
   "cell_type": "code",
   "execution_count": 95,
   "id": "99877d04",
   "metadata": {},
   "outputs": [],
   "source": [
    "# Revolver los datos\n",
    "db_simulados = db_simulados.sample(frac = 1, random_state = rnd_nbr, ignore_index = True)\n",
    "\n",
    "db_train = db_simulados.iloc[:sim_samples_train, :]\n",
    "db_test = db_simulados.iloc[sim_samples_train:, :]"
   ]
  },
  {
   "cell_type": "markdown",
   "id": "16551408",
   "metadata": {},
   "source": [
    "## Balanceo de Clases con Undersampling"
   ]
  },
  {
   "cell_type": "code",
   "execution_count": 96,
   "id": "e7f94cd4",
   "metadata": {},
   "outputs": [],
   "source": [
    "db_train_true = db_train[db_train.True_positive == True]\n",
    "db_train_false = db_train[db_train.True_positive == False].sample(n = len(db_train_true))"
   ]
  },
  {
   "cell_type": "code",
   "execution_count": 97,
   "id": "8057abd7",
   "metadata": {},
   "outputs": [],
   "source": [
    "db_train = pd.concat([db_train_true, db_train_false], axis=0, ignore_index = True)\n",
    "db_train = db_train.sample(frac = 1, random_state = rnd_nbr, ignore_index = True)"
   ]
  },
  {
   "cell_type": "markdown",
   "id": "15c5a98f",
   "metadata": {},
   "source": [
    "### Save dataframes as csv"
   ]
  },
  {
   "cell_type": "code",
   "execution_count": 98,
   "id": "4352bd14",
   "metadata": {},
   "outputs": [],
   "source": [
    "base_path = '../data/processed/definitve-two-classes/'\n",
    "\n",
    "db_real.to_csv(base_path + 'real.csv', index = False)\n",
    "db_train.to_csv(base_path + 'train.csv', index = False)\n",
    "db_test.to_csv(base_path + 'test.csv', index = False)"
   ]
  }
 ],
 "metadata": {
  "kernelspec": {
   "display_name": "Python 3",
   "language": "python",
   "name": "python3"
  },
  "language_info": {
   "codemirror_mode": {
    "name": "ipython",
    "version": 3
   },
   "file_extension": ".py",
   "mimetype": "text/x-python",
   "name": "python",
   "nbconvert_exporter": "python",
   "pygments_lexer": "ipython3",
   "version": "3.10.6"
  }
 },
 "nbformat": 4,
 "nbformat_minor": 5
}
