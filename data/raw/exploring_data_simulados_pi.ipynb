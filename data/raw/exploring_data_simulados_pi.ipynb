{
 "cells": [
  {
   "cell_type": "code",
   "execution_count": 1,
   "id": "05ebcf82",
   "metadata": {},
   "outputs": [],
   "source": [
    "import pandas as pd\n",
    "import seaborn as sns\n",
    "import matplotlib.pyplot as plt"
   ]
  },
  {
   "cell_type": "code",
   "execution_count": 2,
   "id": "2b72d9e7",
   "metadata": {},
   "outputs": [],
   "source": [
    "# Load the Excel file\n",
    "file_path = r\"C:\\Users\\Miranda Córdova\\Downloads\\Verano Cientifico\\Datos_para trabajar\\15_sib_rangos.xlsx\" \n",
    "xls = pd.ExcelFile(file_path)"
   ]
  },
  {
   "cell_type": "code",
   "execution_count": 3,
   "id": "8c2ce373",
   "metadata": {},
   "outputs": [
    {
     "name": "stdout",
     "output_type": "stream",
     "text": [
      "['Sheet1']\n"
     ]
    }
   ],
   "source": [
    "# Ver hojas disponibles\n",
    "print(xls.sheet_names)\n"
   ]
  },
  {
   "cell_type": "code",
   "execution_count": 4,
   "id": "7fe65e66",
   "metadata": {},
   "outputs": [],
   "source": [
    "# Leer una hoja específica como DataFrame\n",
    "df = xls.parse('Sheet1')  # o el nombre correcto de la hoja\n"
   ]
  },
  {
   "cell_type": "code",
   "execution_count": 5,
   "id": "a71810ff",
   "metadata": {},
   "outputs": [
    {
     "name": "stdout",
     "output_type": "stream",
     "text": [
      "Filas luego del filtrado: 241599\n"
     ]
    }
   ],
   "source": [
    "\n",
    "# Crear una columna auxiliar con los pares ordenados (conjuntos)\n",
    "df[\"sample_pair\"] = df.apply(lambda row: frozenset([row[\"FAM_Sample_info\"], row[\"VIC_Sample_info\"]]), axis=1)\n",
    "df1 =df\n",
    "# Eliminar duplicados de esos pares (sin importar el orden)\n",
    "df = df[~df.duplicated(subset=\"sample_pair\")]\n",
    "\n",
    "# Eliminar también donde ambos valores son exactamente iguales\n",
    "df = df[df[\"FAM_Sample_info\"] != df[\"VIC_Sample_info\"]]\n",
    "\n",
    "# Eliminar la columna auxiliar si ya no se necesita\n",
    "df = df.drop(columns=\"sample_pair\")\n",
    "\n",
    "print(\"Filas luego del filtrado:\", df.shape[0])\n",
    "\n"
   ]
  },
  {
   "cell_type": "code",
   "execution_count": 132,
   "id": "adfeb5f6",
   "metadata": {},
   "outputs": [
    {
     "data": {
      "text/plain": [
       "40418"
      ]
     },
     "execution_count": 132,
     "metadata": {},
     "output_type": "execute_result"
    }
   ],
   "source": [
    "df1.shape[0]"
   ]
  },
  {
   "cell_type": "code",
   "execution_count": 244,
   "id": "c9678f6f",
   "metadata": {},
   "outputs": [
    {
     "data": {
      "text/plain": [
       "Index(['Shared_Markers', 'k0', 'k1', 'k2', 'Share_allele', 'Value',\n",
       "       'True_positive', 'Datos', 'Value_range', 'log10_Value',\n",
       "       'variable_rangos_encoded'],\n",
       "      dtype='object')"
      ]
     },
     "execution_count": 244,
     "metadata": {},
     "output_type": "execute_result"
    }
   ],
   "source": [
    "df.columns"
   ]
  },
  {
   "cell_type": "code",
   "execution_count": 149,
   "id": "e0555292",
   "metadata": {},
   "outputs": [
    {
     "data": {
      "text/plain": [
       "array([False,  True])"
      ]
     },
     "execution_count": 149,
     "metadata": {},
     "output_type": "execute_result"
    }
   ],
   "source": [
    "df['True_positive'].unique()\n",
    "#array(['BlindSeach', 'BlindSearch', 'ScreenMatch'], dtype=object)\n",
    "#array(['Simulados', 'Real'], dtype=object)\n"
   ]
  },
  {
   "cell_type": "code",
   "execution_count": 116,
   "id": "dba3f4d2",
   "metadata": {},
   "outputs": [],
   "source": [
    "df2 =df"
   ]
  },
  {
   "cell_type": "code",
   "execution_count": 198,
   "id": "39bf2847",
   "metadata": {},
   "outputs": [
    {
     "data": {
      "text/plain": [
       "array(['Simulados'], dtype=object)"
      ]
     },
     "execution_count": 198,
     "metadata": {},
     "output_type": "execute_result"
    }
   ],
   "source": [
    "df[\"Datos\"].unique()"
   ]
  },
  {
   "cell_type": "code",
   "execution_count": 190,
   "id": "239cbcce",
   "metadata": {},
   "outputs": [],
   "source": [
    "df=df2"
   ]
  },
  {
   "cell_type": "code",
   "execution_count": 191,
   "id": "83d3d2c7",
   "metadata": {},
   "outputs": [],
   "source": [
    "df = df[\n",
    "    (df['Datos'] == 'Simulados') \n",
    "]"
   ]
  },
  {
   "cell_type": "code",
   "execution_count": 193,
   "id": "ca790aa6",
   "metadata": {},
   "outputs": [
    {
     "name": "stderr",
     "output_type": "stream",
     "text": [
      "C:\\Users\\Miranda Córdova\\AppData\\Local\\Temp\\ipykernel_29140\\2725347750.py:2: SettingWithCopyWarning: \n",
      "A value is trying to be set on a copy of a slice from a DataFrame.\n",
      "Try using .loc[row_indexer,col_indexer] = value instead\n",
      "\n",
      "See the caveats in the documentation: https://pandas.pydata.org/pandas-docs/stable/user_guide/indexing.html#returning-a-view-versus-a-copy\n",
      "  df[\"True_positive\"] = df[\"True_positive\"].astype(str).str.upper().map({\"TRUE\": True, \"FALSE\": False})\n"
     ]
    }
   ],
   "source": [
    "# Asegúrate de que True_positive sea booleana\n",
    "df[\"True_positive\"] = df[\"True_positive\"].astype(str).str.upper().map({\"TRUE\": True, \"FALSE\": False})\n",
    "\n",
    "# Eliminar columnas no deseadas\n",
    "df = df.drop(columns=[\"FAM_Sample_info\", \"VIC_Sample_info\",'Hoja','Sheet',\"File\",'Marcadores','Software','Kinship'], errors='ignore')\n",
    "\n",
    "# Seleccionar solo columnas numéricas\n",
    "num_cols = df.select_dtypes(include='number').columns.tolist()\n",
    "\n",
    "# Si hay una columna de clasificación (e.g., \"Classification\"), inclúyela\n",
    "if \"Classification\" in df.columns:\n",
    "    hue_var = \"Classification\"\n",
    "else:\n",
    "    hue_var = \"True_positive\"\n",
    "\n"
   ]
  },
  {
   "cell_type": "code",
   "execution_count": 197,
   "id": "5110361d",
   "metadata": {},
   "outputs": [],
   "source": [
    "import numpy as np\n",
    "\n",
    "# Transformar LR (Value) a log10, cuidando ceros o valores negativos\n",
    "df[\"log10_Value\"] = np.log10(df[\"Value\"].replace(0, np.nan)).replace(-np.inf, 0).fillna(0)\n"
   ]
  },
  {
   "cell_type": "code",
   "execution_count": 199,
   "id": "ca1bce4d",
   "metadata": {},
   "outputs": [],
   "source": [
    "from sklearn.preprocessing import OrdinalEncoder\n",
    "# Codificación Ordinal para la variable de rangos\n",
    "# Definir el orden correcto de las categorías\n",
    "range_categories = ['0-99', '100-999', '1000-9999', '10000-99999', '100000-999999', '1000000+']\n",
    "\n",
    "ordinal_encoder = OrdinalEncoder(categories=[range_categories]) # Pasar categories en una lista\n",
    "df['variable_rangos_encoded'] = ordinal_encoder.fit_transform(df[['Value_range']])\n"
   ]
  },
  {
   "cell_type": "code",
   "execution_count": 200,
   "id": "91752476",
   "metadata": {},
   "outputs": [],
   "source": [
    "from sklearn.linear_model import LogisticRegression\n",
    "from sklearn.model_selection import train_test_split\n",
    "from sklearn.metrics import classification_report"
   ]
  },
  {
   "cell_type": "code",
   "execution_count": 206,
   "id": "cab5b7f2",
   "metadata": {},
   "outputs": [],
   "source": [
    "# Selección de variables predictoras\n",
    "#features = [\"k1\", \"k2\", \"Kinship_codificada\", \"Share_allele\", \"log10_Value\"]\n",
    "features = [\"k1\", \"k2\", \"variable_rangos_encoded\", \"Kinship_codificada\",\"Share_allele\"]\n",
    "\n",
    "X = df[features]\n",
    "y = df[\"True_positive\"].astype(bool)"
   ]
  },
  {
   "cell_type": "code",
   "execution_count": 207,
   "id": "db76983c",
   "metadata": {},
   "outputs": [
    {
     "name": "stdout",
     "output_type": "stream",
     "text": [
      "              precision    recall  f1-score   support\n",
      "\n",
      "       False       0.98      0.99      0.98      1059\n",
      "        True       0.90      0.79      0.84       113\n",
      "\n",
      "    accuracy                           0.97      1172\n",
      "   macro avg       0.94      0.89      0.91      1172\n",
      "weighted avg       0.97      0.97      0.97      1172\n",
      "\n"
     ]
    }
   ],
   "source": [
    "\n",
    "# División\n",
    "X_train, X_test, y_train, y_test = train_test_split(X, y, stratify=y, test_size=0.3, random_state=42)\n",
    "\n",
    "# Modelo\n",
    "model = LogisticRegression(max_iter=1000)\n",
    "model.fit(X_train, y_train)\n",
    "\n",
    "# Resultados\n",
    "y_pred = model.predict(X_test)\n",
    "print(classification_report(y_test, y_pred))"
   ]
  },
  {
   "cell_type": "code",
   "execution_count": null,
   "id": "51e34e2d",
   "metadata": {},
   "outputs": [],
   "source": []
  },
  {
   "cell_type": "code",
   "execution_count": 22,
   "id": "f45f6117",
   "metadata": {},
   "outputs": [],
   "source": [
    "features = [\"k1\", \"k2\", \"Share_allele\", \"log10_Value\"]\n",
    "X = df[features]\n",
    "y = df[\"True_positive\"].astype(bool)"
   ]
  },
  {
   "cell_type": "code",
   "execution_count": 23,
   "id": "ef5abbc3",
   "metadata": {},
   "outputs": [
    {
     "name": "stdout",
     "output_type": "stream",
     "text": [
      "              precision    recall  f1-score   support\n",
      "\n",
      "       False       0.98      0.98      0.98      1059\n",
      "        True       0.86      0.84      0.85       113\n",
      "\n",
      "    accuracy                           0.97      1172\n",
      "   macro avg       0.92      0.91      0.92      1172\n",
      "weighted avg       0.97      0.97      0.97      1172\n",
      "\n"
     ]
    }
   ],
   "source": [
    "\n",
    "# División\n",
    "X_train, X_test, y_train, y_test = train_test_split(X, y, stratify=y, test_size=0.3, random_state=42)\n",
    "\n",
    "# Modelo\n",
    "model = LogisticRegression(max_iter=1000)\n",
    "model.fit(X_train, y_train)\n",
    "\n",
    "# Resultados\n",
    "y_pred = model.predict(X_test)\n",
    "print(classification_report(y_test, y_pred))"
   ]
  },
  {
   "cell_type": "code",
   "execution_count": null,
   "id": "f232baeb",
   "metadata": {},
   "outputs": [],
   "source": []
  },
  {
   "cell_type": "code",
   "execution_count": 212,
   "id": "865daf20",
   "metadata": {},
   "outputs": [],
   "source": [
    "import pandas as pd\n",
    "from sklearn.model_selection import train_test_split\n",
    "from sklearn.ensemble import RandomForestClassifier\n",
    "from sklearn.metrics import classification_report, confusion_matrix\n",
    "import matplotlib.pyplot as plt\n",
    "import seaborn as sns"
   ]
  },
  {
   "cell_type": "code",
   "execution_count": 213,
   "id": "923a00aa",
   "metadata": {},
   "outputs": [],
   "source": [
    "# ✅ 1. Define las features y target\n",
    "#features = [\"k1\", \"k2\", \"Share_allele\", \"log10_Value\"]\n",
    "features = [\"k1\", \"k2\", \"variable_rangos_encoded\"]\n",
    "\n",
    "target = \"True_positive\"  # Ajusta si tu columna tiene otro nombre\n"
   ]
  },
  {
   "cell_type": "code",
   "execution_count": 214,
   "id": "7bff6047",
   "metadata": {},
   "outputs": [
    {
     "name": "stdout",
     "output_type": "stream",
     "text": [
      "              precision    recall  f1-score   support\n",
      "\n",
      "       False       1.00      0.97      0.98       707\n",
      "        True       0.76      0.99      0.86        75\n",
      "\n",
      "    accuracy                           0.97       782\n",
      "   macro avg       0.88      0.98      0.92       782\n",
      "weighted avg       0.98      0.97      0.97       782\n",
      "\n"
     ]
    }
   ],
   "source": [
    "# ✅ 2. Divide en entrenamiento y prueba\n",
    "X = df[features]\n",
    "y = df[target]\n",
    "\n",
    "X_train, X_test, y_train, y_test = train_test_split(\n",
    "    X, y, test_size=0.2, random_state=42, stratify=y\n",
    ")\n",
    "\n",
    "# ✅ 3. Crea y ajusta el modelo\n",
    "rf = RandomForestClassifier(n_estimators=100, random_state=42, class_weight=\"balanced\")\n",
    "rf.fit(X_train, y_train)\n",
    "\n",
    "# ✅ 4. Predicciones\n",
    "y_pred = rf.predict(X_test)\n",
    "\n",
    "# ✅ 5. Reporte de métricas\n",
    "print(classification_report(y_test, y_pred))"
   ]
  },
  {
   "cell_type": "code",
   "execution_count": 215,
   "id": "b8eeeab6",
   "metadata": {},
   "outputs": [
    {
     "data": {
      "image/png": "[encoded data removed]",
      "text/plain": [
       "<Figure size 640x480 with 2 Axes>"
      ]
     },
     "metadata": {},
     "output_type": "display_data"
    }
   ],
   "source": [
    "# ✅ 6. Matriz de confusión\n",
    "cm = confusion_matrix(y_test, y_pred)\n",
    "sns.heatmap(cm, annot=True, fmt=\"d\", cmap=\"Blues\", xticklabels=[\"False\", \"True\"], yticklabels=[\"False\", \"True\"])\n",
    "plt.xlabel(\"Predicted\")\n",
    "plt.ylabel(\"Actual\")\n",
    "plt.title(\"Matriz de Confusión - Random Forest\")\n",
    "plt.show()\n"
   ]
  },
  {
   "cell_type": "code",
   "execution_count": 216,
   "id": "85a2daaf",
   "metadata": {},
   "outputs": [],
   "source": [
    "\n",
    "# ✅ 7. Importancia de las variables\n",
    "importances = pd.DataFrame({\n",
    "    \"Feature\": features,\n",
    "    \"Importance\": rf.feature_importances_\n",
    "}).sort_values(by=\"Importance\", ascending=False)\n"
   ]
  },
  {
   "cell_type": "code",
   "execution_count": 217,
   "id": "a8b13d1c",
   "metadata": {
    "scrolled": true
   },
   "outputs": [
    {
     "data": {
      "image/png": "[encoded data removed]",
      "text/plain": [
       "<Figure size 640x480 with 1 Axes>"
      ]
     },
     "metadata": {},
     "output_type": "display_data"
    }
   ],
   "source": [
    "\n",
    "\n",
    "sns.barplot(x=\"Importance\", y=\"Feature\", data=importances)\n",
    "plt.title(\"Importancia de las variables (Random Forest)\")\n",
    "plt.show()\n"
   ]
  },
  {
   "cell_type": "code",
   "execution_count": 218,
   "id": "99c2e43c",
   "metadata": {},
   "outputs": [],
   "source": [
    "from sklearn.ensemble import RandomForestClassifier\n",
    "from sklearn.model_selection import RandomizedSearchCV\n",
    "from sklearn.metrics import classification_report\n",
    "from scipy.stats import randint"
   ]
  },
  {
   "cell_type": "code",
   "execution_count": 222,
   "id": "7ab6e1d2",
   "metadata": {},
   "outputs": [
    {
     "data": {
      "text/plain": [
       "Index(['Shared_Markers', 'k0', 'k1', 'k2', 'Share_allele', 'Value',\n",
       "       'True_positive', 'Datos', 'Value_range', 'log10_Value',\n",
       "       'variable_rangos_encoded'],\n",
       "      dtype='object')"
      ]
     },
     "execution_count": 222,
     "metadata": {},
     "output_type": "execute_result"
    }
   ],
   "source": [
    "df.columns"
   ]
  },
  {
   "cell_type": "code",
   "execution_count": 223,
   "id": "7349614e",
   "metadata": {},
   "outputs": [
    {
     "data": {
      "text/plain": [
       "['k1', 'k2', 'variable_rangos_encoded']"
      ]
     },
     "execution_count": 223,
     "metadata": {},
     "output_type": "execute_result"
    }
   ],
   "source": [
    "features"
   ]
  },
  {
   "cell_type": "code",
   "execution_count": 219,
   "id": "c8d71b06",
   "metadata": {},
   "outputs": [],
   "source": [
    "\n",
    "# Definir el espacio de búsqueda\n",
    "param_dist = {\n",
    "    'n_estimators': randint(100,  2000),\n",
    "    'max_depth': [5, 10, 20, 50, None],\n",
    "    'min_samples_split': [2, 5, 10,50],\n",
    "    'min_samples_leaf': [1, 2, 4, 10],\n",
    "    'max_features': ['sqrt', 'log2', None],\n",
    "    'class_weight': ['balanced',\"balanced_subsample\", None]\n",
    "}\n"
   ]
  },
  {
   "cell_type": "code",
   "execution_count": 220,
   "id": "f6efac61",
   "metadata": {},
   "outputs": [
    {
     "name": "stdout",
     "output_type": "stream",
     "text": [
      "Fitting 5 folds for each of 50 candidates, totalling 250 fits\n",
      "Mejores parámetros: {'class_weight': None, 'max_depth': 20, 'max_features': 'sqrt', 'min_samples_leaf': 10, 'min_samples_split': 50, 'n_estimators': 1787}\n",
      "              precision    recall  f1-score   support\n",
      "\n",
      "       False       0.98      0.99      0.99       707\n",
      "        True       0.93      0.84      0.88        75\n",
      "\n",
      "    accuracy                           0.98       782\n",
      "   macro avg       0.95      0.92      0.93       782\n",
      "weighted avg       0.98      0.98      0.98       782\n",
      "\n"
     ]
    }
   ],
   "source": [
    "\n",
    "\n",
    "# Inicializar el modelo base\n",
    "rf = RandomForestClassifier(random_state=42)\n",
    "\n",
    "# RandomizedSearchCV\n",
    "random_search = RandomizedSearchCV(\n",
    "    rf, param_distributions=param_dist,\n",
    "    n_iter=50, cv=5, scoring='f1', random_state=42, n_jobs=-1, verbose=1\n",
    ")\n",
    "\n",
    "# Ajustar al set de entrenamiento\n",
    "random_search.fit(X_train, y_train)\n",
    "\n",
    "# Mejor modelo\n",
    "best_rf = random_search.best_estimator_\n",
    "\n",
    "# Predicciones y evaluación\n",
    "y_pred = best_rf.predict(X_test)\n",
    "print(\"Mejores parámetros:\", random_search.best_params_)\n",
    "print(classification_report(y_test, y_pred))\n"
   ]
  },
  {
   "cell_type": "code",
   "execution_count": null,
   "id": "c8363dc8",
   "metadata": {},
   "outputs": [],
   "source": []
  },
  {
   "cell_type": "code",
   "execution_count": null,
   "id": "cb11525e",
   "metadata": {},
   "outputs": [],
   "source": []
  },
  {
   "cell_type": "code",
   "execution_count": null,
   "id": "e9d9942f",
   "metadata": {},
   "outputs": [],
   "source": []
  },
  {
   "cell_type": "code",
   "execution_count": null,
   "id": "7b84ff22",
   "metadata": {},
   "outputs": [],
   "source": []
  },
  {
   "cell_type": "code",
   "execution_count": 224,
   "id": "f6f23773",
   "metadata": {},
   "outputs": [],
   "source": [
    "from sklearn.model_selection import GridSearchCV\n",
    "\n",
    "# Espacio de búsqueda más acotado\n",
    "param_grid = {\n",
    "    'n_estimators': [100, 200],\n",
    "    'max_depth': [10, 20, None],\n",
    "    'min_samples_split': [2, 5],\n",
    "    'min_samples_leaf': [1, 2],\n",
    "    'max_features': ['sqrt', 'log2'],\n",
    "    'class_weight': ['balanced']\n",
    "}\n"
   ]
  },
  {
   "cell_type": "code",
   "execution_count": 225,
   "id": "9d067b71",
   "metadata": {},
   "outputs": [
    {
     "name": "stdout",
     "output_type": "stream",
     "text": [
      "Fitting 5 folds for each of 48 candidates, totalling 240 fits\n",
      "Mejores parámetros (Grid): {'class_weight': 'balanced', 'max_depth': 10, 'max_features': 'sqrt', 'min_samples_leaf': 1, 'min_samples_split': 5, 'n_estimators': 100}\n",
      "              precision    recall  f1-score   support\n",
      "\n",
      "       False       1.00      0.97      0.98       707\n",
      "        True       0.76      0.99      0.86        75\n",
      "\n",
      "    accuracy                           0.97       782\n",
      "   macro avg       0.88      0.98      0.92       782\n",
      "weighted avg       0.98      0.97      0.97       782\n",
      "\n"
     ]
    }
   ],
   "source": [
    "\n",
    "grid_search = GridSearchCV(\n",
    "    rf, param_grid=param_grid,\n",
    "    cv=5, scoring='f1', n_jobs=-1, verbose=1\n",
    ")\n",
    "\n",
    "grid_search.fit(X_train, y_train)\n",
    "best_rf_grid = grid_search.best_estimator_\n",
    "\n",
    "# Predicciones y evaluación\n",
    "y_pred_grid = best_rf_grid.predict(X_test)\n",
    "print(\"Mejores parámetros (Grid):\", grid_search.best_params_)\n",
    "print(classification_report(y_test, y_pred_grid))\n"
   ]
  },
  {
   "cell_type": "code",
   "execution_count": null,
   "id": "2bd2c66a",
   "metadata": {},
   "outputs": [],
   "source": []
  },
  {
   "cell_type": "code",
   "execution_count": 226,
   "id": "8e8c8717",
   "metadata": {},
   "outputs": [
    {
     "ename": "KeyError",
     "evalue": "'log10_Value'",
     "output_type": "error",
     "traceback": [
      "\u001b[1;31m------------------------------------------------------------------\u001b[0m",
      "\u001b[1;31mKeyError\u001b[0m                         Traceback (most recent call last)",
      "\u001b[1;32m~\\AppData\\Local\\Programs\\Python\\Python311\\Lib\\site-packages\\pandas\\core\\indexes\\base.py\u001b[0m in \u001b[0;36mget_loc\u001b[1;34m(self, key, method, tolerance)\u001b[0m\n\u001b[0;32m   3801\u001b[0m             \u001b[1;32mtry\u001b[0m\u001b[1;33m:\u001b[0m\u001b[1;33m\u001b[0m\u001b[1;33m\u001b[0m\u001b[0m\n\u001b[1;32m-> 3802\u001b[1;33m                 \u001b[1;32mreturn\u001b[0m \u001b[0mself\u001b[0m\u001b[1;33m.\u001b[0m\u001b[0m_engine\u001b[0m\u001b[1;33m.\u001b[0m\u001b[0mget_loc\u001b[0m\u001b[1;33m(\u001b[0m\u001b[0mcasted_key\u001b[0m\u001b[1;33m)\u001b[0m\u001b[1;33m\u001b[0m\u001b[1;33m\u001b[0m\u001b[0m\n\u001b[0m\u001b[0;32m   3803\u001b[0m             \u001b[1;32mexcept\u001b[0m \u001b[0mKeyError\u001b[0m \u001b[1;32mas\u001b[0m \u001b[0merr\u001b[0m\u001b[1;33m:\u001b[0m\u001b[1;33m\u001b[0m\u001b[1;33m\u001b[0m\u001b[0m\n",
      "\u001b[1;32m~\\AppData\\Local\\Programs\\Python\\Python311\\Lib\\site-packages\\pandas\\_libs\\index.pyx\u001b[0m in \u001b[0;36mpandas._libs.index.IndexEngine.get_loc\u001b[1;34m()\u001b[0m\n",
      "\u001b[1;32m~\\AppData\\Local\\Programs\\Python\\Python311\\Lib\\site-packages\\pandas\\_libs\\index.pyx\u001b[0m in \u001b[0;36mpandas._libs.index.IndexEngine.get_loc\u001b[1;34m()\u001b[0m\n",
      "\u001b[1;32mpandas\\_libs\\hashtable_class_helper.pxi\u001b[0m in \u001b[0;36mpandas._libs.hashtable.PyObjectHashTable.get_item\u001b[1;34m()\u001b[0m\n",
      "\u001b[1;32mpandas\\_libs\\hashtable_class_helper.pxi\u001b[0m in \u001b[0;36mpandas._libs.hashtable.PyObjectHashTable.get_item\u001b[1;34m()\u001b[0m\n",
      "\u001b[1;31mKeyError\u001b[0m: 'log10_Value'",
      "\nThe above exception was the direct cause of the following exception:\n",
      "\u001b[1;31mKeyError\u001b[0m                         Traceback (most recent call last)",
      "\u001b[1;32m~\\AppData\\Local\\Temp\\ipykernel_29140\\3968178402.py\u001b[0m in \u001b[0;36m<cell line: 0>\u001b[1;34m()\u001b[0m\n\u001b[0;32m     20\u001b[0m         \u001b[1;32mreturn\u001b[0m \u001b[1;34m\"1000+\"\u001b[0m\u001b[1;33m\u001b[0m\u001b[1;33m\u001b[0m\u001b[0m\n\u001b[0;32m     21\u001b[0m \u001b[1;33m\u001b[0m\u001b[0m\n\u001b[1;32m---> 22\u001b[1;33m \u001b[0mresults\u001b[0m\u001b[1;33m[\u001b[0m\u001b[1;34m\"Value_range\"\u001b[0m\u001b[1;33m]\u001b[0m \u001b[1;33m=\u001b[0m \u001b[0mresults\u001b[0m\u001b[1;33m[\u001b[0m\u001b[1;34m\"log10_Value\"\u001b[0m\u001b[1;33m]\u001b[0m\u001b[1;33m.\u001b[0m\u001b[0mapply\u001b[0m\u001b[1;33m(\u001b[0m\u001b[0mcategorize_log10\u001b[0m\u001b[1;33m)\u001b[0m\u001b[1;33m\u001b[0m\u001b[1;33m\u001b[0m\u001b[0m\n\u001b[0m\u001b[0;32m     23\u001b[0m \u001b[1;33m\u001b[0m\u001b[0m\n\u001b[0;32m     24\u001b[0m \u001b[1;31m# Evaluar por cada rango\u001b[0m\u001b[1;33m\u001b[0m\u001b[1;33m\u001b[0m\u001b[0m\n",
      "\u001b[1;32m~\\AppData\\Local\\Programs\\Python\\Python311\\Lib\\site-packages\\pandas\\core\\frame.py\u001b[0m in \u001b[0;36m__getitem__\u001b[1;34m(self, key)\u001b[0m\n\u001b[0;32m   3805\u001b[0m             \u001b[1;32mif\u001b[0m \u001b[0mself\u001b[0m\u001b[1;33m.\u001b[0m\u001b[0mcolumns\u001b[0m\u001b[1;33m.\u001b[0m\u001b[0mnlevels\u001b[0m \u001b[1;33m>\u001b[0m \u001b[1;36m1\u001b[0m\u001b[1;33m:\u001b[0m\u001b[1;33m\u001b[0m\u001b[1;33m\u001b[0m\u001b[0m\n\u001b[0;32m   3806\u001b[0m                 \u001b[1;32mreturn\u001b[0m \u001b[0mself\u001b[0m\u001b[1;33m.\u001b[0m\u001b[0m_getitem_multilevel\u001b[0m\u001b[1;33m(\u001b[0m\u001b[0mkey\u001b[0m\u001b[1;33m)\u001b[0m\u001b[1;33m\u001b[0m\u001b[1;33m\u001b[0m\u001b[0m\n\u001b[1;32m-> 3807\u001b[1;33m             \u001b[0mindexer\u001b[0m \u001b[1;33m=\u001b[0m \u001b[0mself\u001b[0m\u001b[1;33m.\u001b[0m\u001b[0mcolumns\u001b[0m\u001b[1;33m.\u001b[0m\u001b[0mget_loc\u001b[0m\u001b[1;33m(\u001b[0m\u001b[0mkey\u001b[0m\u001b[1;33m)\u001b[0m\u001b[1;33m\u001b[0m\u001b[1;33m\u001b[0m\u001b[0m\n\u001b[0m\u001b[0;32m   3808\u001b[0m             \u001b[1;32mif\u001b[0m \u001b[0mis_integer\u001b[0m\u001b[1;33m(\u001b[0m\u001b[0mindexer\u001b[0m\u001b[1;33m)\u001b[0m\u001b[1;33m:\u001b[0m\u001b[1;33m\u001b[0m\u001b[1;33m\u001b[0m\u001b[0m\n\u001b[0;32m   3809\u001b[0m                 \u001b[0mindexer\u001b[0m \u001b[1;33m=\u001b[0m \u001b[1;33m[\u001b[0m\u001b[0mindexer\u001b[0m\u001b[1;33m]\u001b[0m\u001b[1;33m\u001b[0m\u001b[1;33m\u001b[0m\u001b[0m\n",
      "\u001b[1;32m~\\AppData\\Local\\Programs\\Python\\Python311\\Lib\\site-packages\\pandas\\core\\indexes\\base.py\u001b[0m in \u001b[0;36mget_loc\u001b[1;34m(self, key, method, tolerance)\u001b[0m\n\u001b[0;32m   3802\u001b[0m                 \u001b[1;32mreturn\u001b[0m \u001b[0mself\u001b[0m\u001b[1;33m.\u001b[0m\u001b[0m_engine\u001b[0m\u001b[1;33m.\u001b[0m\u001b[0mget_loc\u001b[0m\u001b[1;33m(\u001b[0m\u001b[0mcasted_key\u001b[0m\u001b[1;33m)\u001b[0m\u001b[1;33m\u001b[0m\u001b[1;33m\u001b[0m\u001b[0m\n\u001b[0;32m   3803\u001b[0m             \u001b[1;32mexcept\u001b[0m \u001b[0mKeyError\u001b[0m \u001b[1;32mas\u001b[0m \u001b[0merr\u001b[0m\u001b[1;33m:\u001b[0m\u001b[1;33m\u001b[0m\u001b[1;33m\u001b[0m\u001b[0m\n\u001b[1;32m-> 3804\u001b[1;33m                 \u001b[1;32mraise\u001b[0m \u001b[0mKeyError\u001b[0m\u001b[1;33m(\u001b[0m\u001b[0mkey\u001b[0m\u001b[1;33m)\u001b[0m \u001b[1;32mfrom\u001b[0m \u001b[0merr\u001b[0m\u001b[1;33m\u001b[0m\u001b[1;33m\u001b[0m\u001b[0m\n\u001b[0m\u001b[0;32m   3805\u001b[0m             \u001b[1;32mexcept\u001b[0m \u001b[0mTypeError\u001b[0m\u001b[1;33m:\u001b[0m\u001b[1;33m\u001b[0m\u001b[1;33m\u001b[0m\u001b[0m\n\u001b[0;32m   3806\u001b[0m                 \u001b[1;31m# If we have a listlike key, _check_indexing_error will raise\u001b[0m\u001b[1;33m\u001b[0m\u001b[1;33m\u001b[0m\u001b[0m\n",
      "\u001b[1;31mKeyError\u001b[0m: 'log10_Value'"
     ]
    }
   ],
   "source": [
    "from sklearn.metrics import classification_report\n",
    "\n",
    "# Supongamos que ya tienes:\n",
    "# y_test: valores reales\n",
    "# y_pred: predicciones del modelo\n",
    "# X_test: contiene columna log10_Value\n",
    "\n",
    "# Combinar todo en un DataFrame\n",
    "results = X_test.copy()\n",
    "results[\"y_true\"] = y_test.values\n",
    "results[\"y_pred\"] = y_pred\n",
    "\n",
    "# Agregar una columna con los rangos de log10_Value\n",
    "def categorize_log10(val):\n",
    "    if val < 2:\n",
    "        return \"<100\"\n",
    "    elif val < 3:\n",
    "        return \"100–999\"\n",
    "    else:\n",
    "        return \"1000+\"\n",
    "\n",
    "results[\"Value_range\"] = results[\"log10_Value\"].apply(categorize_log10)\n",
    "\n",
    "# Evaluar por cada rango\n",
    "for group, subset in results.groupby(\"Value_range\"):\n",
    "    print(f\"🔹 Rango: {group}\")\n",
    "    print(classification_report(subset[\"y_true\"], subset[\"y_pred\"]))\n",
    "    print(\"-\" * 40)\n"
   ]
  },
  {
   "cell_type": "code",
   "execution_count": 227,
   "id": "90a03206",
   "metadata": {},
   "outputs": [
    {
     "ename": "KeyError",
     "evalue": "'log10_Value'",
     "output_type": "error",
     "traceback": [
      "\u001b[1;31m------------------------------------------------------------------\u001b[0m",
      "\u001b[1;31mKeyError\u001b[0m                         Traceback (most recent call last)",
      "\u001b[1;32m~\\AppData\\Local\\Programs\\Python\\Python311\\Lib\\site-packages\\pandas\\core\\indexes\\base.py\u001b[0m in \u001b[0;36mget_loc\u001b[1;34m(self, key, method, tolerance)\u001b[0m\n\u001b[0;32m   3801\u001b[0m             \u001b[1;32mtry\u001b[0m\u001b[1;33m:\u001b[0m\u001b[1;33m\u001b[0m\u001b[1;33m\u001b[0m\u001b[0m\n\u001b[1;32m-> 3802\u001b[1;33m                 \u001b[1;32mreturn\u001b[0m \u001b[0mself\u001b[0m\u001b[1;33m.\u001b[0m\u001b[0m_engine\u001b[0m\u001b[1;33m.\u001b[0m\u001b[0mget_loc\u001b[0m\u001b[1;33m(\u001b[0m\u001b[0mcasted_key\u001b[0m\u001b[1;33m)\u001b[0m\u001b[1;33m\u001b[0m\u001b[1;33m\u001b[0m\u001b[0m\n\u001b[0m\u001b[0;32m   3803\u001b[0m             \u001b[1;32mexcept\u001b[0m \u001b[0mKeyError\u001b[0m \u001b[1;32mas\u001b[0m \u001b[0merr\u001b[0m\u001b[1;33m:\u001b[0m\u001b[1;33m\u001b[0m\u001b[1;33m\u001b[0m\u001b[0m\n",
      "\u001b[1;32m~\\AppData\\Local\\Programs\\Python\\Python311\\Lib\\site-packages\\pandas\\_libs\\index.pyx\u001b[0m in \u001b[0;36mpandas._libs.index.IndexEngine.get_loc\u001b[1;34m()\u001b[0m\n",
      "\u001b[1;32m~\\AppData\\Local\\Programs\\Python\\Python311\\Lib\\site-packages\\pandas\\_libs\\index.pyx\u001b[0m in \u001b[0;36mpandas._libs.index.IndexEngine.get_loc\u001b[1;34m()\u001b[0m\n",
      "\u001b[1;32mpandas\\_libs\\hashtable_class_helper.pxi\u001b[0m in \u001b[0;36mpandas._libs.hashtable.PyObjectHashTable.get_item\u001b[1;34m()\u001b[0m\n",
      "\u001b[1;32mpandas\\_libs\\hashtable_class_helper.pxi\u001b[0m in \u001b[0;36mpandas._libs.hashtable.PyObjectHashTable.get_item\u001b[1;34m()\u001b[0m\n",
      "\u001b[1;31mKeyError\u001b[0m: 'log10_Value'",
      "\nThe above exception was the direct cause of the following exception:\n",
      "\u001b[1;31mKeyError\u001b[0m                         Traceback (most recent call last)",
      "\u001b[1;32m~\\AppData\\Local\\Temp\\ipykernel_29140\\3336651177.py\u001b[0m in \u001b[0;36m<cell line: 0>\u001b[1;34m()\u001b[0m\n\u001b[0;32m     10\u001b[0m \u001b[1;33m\u001b[0m\u001b[0m\n\u001b[0;32m     11\u001b[0m \u001b[1;31m# Filtrar solo casos con log10_Value >= 2 (equivale a LR ≥ 100)\u001b[0m\u001b[1;33m\u001b[0m\u001b[1;33m\u001b[0m\u001b[0m\n\u001b[1;32m---> 12\u001b[1;33m \u001b[0msubset\u001b[0m \u001b[1;33m=\u001b[0m \u001b[0mresults\u001b[0m\u001b[1;33m[\u001b[0m\u001b[0mresults\u001b[0m\u001b[1;33m[\u001b[0m\u001b[1;34m\"log10_Value\"\u001b[0m\u001b[1;33m]\u001b[0m \u001b[1;33m>=\u001b[0m \u001b[1;36m3\u001b[0m\u001b[1;33m]\u001b[0m\u001b[1;33m\u001b[0m\u001b[1;33m\u001b[0m\u001b[0m\n\u001b[0m\u001b[0;32m     13\u001b[0m \u001b[1;33m\u001b[0m\u001b[0m\n\u001b[0;32m     14\u001b[0m \u001b[1;31m# Reporte de clasificación en ese subconjunto\u001b[0m\u001b[1;33m\u001b[0m\u001b[1;33m\u001b[0m\u001b[0m\n",
      "\u001b[1;32m~\\AppData\\Local\\Programs\\Python\\Python311\\Lib\\site-packages\\pandas\\core\\frame.py\u001b[0m in \u001b[0;36m__getitem__\u001b[1;34m(self, key)\u001b[0m\n\u001b[0;32m   3805\u001b[0m             \u001b[1;32mif\u001b[0m \u001b[0mself\u001b[0m\u001b[1;33m.\u001b[0m\u001b[0mcolumns\u001b[0m\u001b[1;33m.\u001b[0m\u001b[0mnlevels\u001b[0m \u001b[1;33m>\u001b[0m \u001b[1;36m1\u001b[0m\u001b[1;33m:\u001b[0m\u001b[1;33m\u001b[0m\u001b[1;33m\u001b[0m\u001b[0m\n\u001b[0;32m   3806\u001b[0m                 \u001b[1;32mreturn\u001b[0m \u001b[0mself\u001b[0m\u001b[1;33m.\u001b[0m\u001b[0m_getitem_multilevel\u001b[0m\u001b[1;33m(\u001b[0m\u001b[0mkey\u001b[0m\u001b[1;33m)\u001b[0m\u001b[1;33m\u001b[0m\u001b[1;33m\u001b[0m\u001b[0m\n\u001b[1;32m-> 3807\u001b[1;33m             \u001b[0mindexer\u001b[0m \u001b[1;33m=\u001b[0m \u001b[0mself\u001b[0m\u001b[1;33m.\u001b[0m\u001b[0mcolumns\u001b[0m\u001b[1;33m.\u001b[0m\u001b[0mget_loc\u001b[0m\u001b[1;33m(\u001b[0m\u001b[0mkey\u001b[0m\u001b[1;33m)\u001b[0m\u001b[1;33m\u001b[0m\u001b[1;33m\u001b[0m\u001b[0m\n\u001b[0m\u001b[0;32m   3808\u001b[0m             \u001b[1;32mif\u001b[0m \u001b[0mis_integer\u001b[0m\u001b[1;33m(\u001b[0m\u001b[0mindexer\u001b[0m\u001b[1;33m)\u001b[0m\u001b[1;33m:\u001b[0m\u001b[1;33m\u001b[0m\u001b[1;33m\u001b[0m\u001b[0m\n\u001b[0;32m   3809\u001b[0m                 \u001b[0mindexer\u001b[0m \u001b[1;33m=\u001b[0m \u001b[1;33m[\u001b[0m\u001b[0mindexer\u001b[0m\u001b[1;33m]\u001b[0m\u001b[1;33m\u001b[0m\u001b[1;33m\u001b[0m\u001b[0m\n",
      "\u001b[1;32m~\\AppData\\Local\\Programs\\Python\\Python311\\Lib\\site-packages\\pandas\\core\\indexes\\base.py\u001b[0m in \u001b[0;36mget_loc\u001b[1;34m(self, key, method, tolerance)\u001b[0m\n\u001b[0;32m   3802\u001b[0m                 \u001b[1;32mreturn\u001b[0m \u001b[0mself\u001b[0m\u001b[1;33m.\u001b[0m\u001b[0m_engine\u001b[0m\u001b[1;33m.\u001b[0m\u001b[0mget_loc\u001b[0m\u001b[1;33m(\u001b[0m\u001b[0mcasted_key\u001b[0m\u001b[1;33m)\u001b[0m\u001b[1;33m\u001b[0m\u001b[1;33m\u001b[0m\u001b[0m\n\u001b[0;32m   3803\u001b[0m             \u001b[1;32mexcept\u001b[0m \u001b[0mKeyError\u001b[0m \u001b[1;32mas\u001b[0m \u001b[0merr\u001b[0m\u001b[1;33m:\u001b[0m\u001b[1;33m\u001b[0m\u001b[1;33m\u001b[0m\u001b[0m\n\u001b[1;32m-> 3804\u001b[1;33m                 \u001b[1;32mraise\u001b[0m \u001b[0mKeyError\u001b[0m\u001b[1;33m(\u001b[0m\u001b[0mkey\u001b[0m\u001b[1;33m)\u001b[0m \u001b[1;32mfrom\u001b[0m \u001b[0merr\u001b[0m\u001b[1;33m\u001b[0m\u001b[1;33m\u001b[0m\u001b[0m\n\u001b[0m\u001b[0;32m   3805\u001b[0m             \u001b[1;32mexcept\u001b[0m \u001b[0mTypeError\u001b[0m\u001b[1;33m:\u001b[0m\u001b[1;33m\u001b[0m\u001b[1;33m\u001b[0m\u001b[0m\n\u001b[0;32m   3806\u001b[0m                 \u001b[1;31m# If we have a listlike key, _check_indexing_error will raise\u001b[0m\u001b[1;33m\u001b[0m\u001b[1;33m\u001b[0m\u001b[0m\n",
      "\u001b[1;31mKeyError\u001b[0m: 'log10_Value'"
     ]
    }
   ],
   "source": [
    "from sklearn.metrics import classification_report\n",
    "\n",
    "# Suponiendo que ya tienes: X_test, y_test, y_pred\n",
    "# Asegúrate de que X_test tenga la columna \"log10_Value\"\n",
    "\n",
    "# Combinar datos reales, predichos y características\n",
    "results = X_test.copy()\n",
    "results[\"y_true\"] = y_test.values\n",
    "results[\"y_pred\"] = y_pred\n",
    "\n",
    "# Filtrar solo casos con log10_Value >= 2 (equivale a LR ≥ 100)\n",
    "subset = results[results[\"log10_Value\"] >= 3]\n",
    "\n",
    "# Reporte de clasificación en ese subconjunto\n",
    "print(\"🔎 Evaluación solo con log10_Value ≥ 3 (LR ≥ 1000)\")\n",
    "print(classification_report(subset[\"y_true\"], subset[\"y_pred\"]))\n"
   ]
  },
  {
   "cell_type": "code",
   "execution_count": 228,
   "id": "f74439e0",
   "metadata": {},
   "outputs": [
    {
     "ename": "KeyError",
     "evalue": "'log10_Value'",
     "output_type": "error",
     "traceback": [
      "\u001b[1;31m------------------------------------------------------------------\u001b[0m",
      "\u001b[1;31mKeyError\u001b[0m                         Traceback (most recent call last)",
      "\u001b[1;32m~\\AppData\\Local\\Programs\\Python\\Python311\\Lib\\site-packages\\pandas\\core\\indexes\\base.py\u001b[0m in \u001b[0;36mget_loc\u001b[1;34m(self, key, method, tolerance)\u001b[0m\n\u001b[0;32m   3801\u001b[0m             \u001b[1;32mtry\u001b[0m\u001b[1;33m:\u001b[0m\u001b[1;33m\u001b[0m\u001b[1;33m\u001b[0m\u001b[0m\n\u001b[1;32m-> 3802\u001b[1;33m                 \u001b[1;32mreturn\u001b[0m \u001b[0mself\u001b[0m\u001b[1;33m.\u001b[0m\u001b[0m_engine\u001b[0m\u001b[1;33m.\u001b[0m\u001b[0mget_loc\u001b[0m\u001b[1;33m(\u001b[0m\u001b[0mcasted_key\u001b[0m\u001b[1;33m)\u001b[0m\u001b[1;33m\u001b[0m\u001b[1;33m\u001b[0m\u001b[0m\n\u001b[0m\u001b[0;32m   3803\u001b[0m             \u001b[1;32mexcept\u001b[0m \u001b[0mKeyError\u001b[0m \u001b[1;32mas\u001b[0m \u001b[0merr\u001b[0m\u001b[1;33m:\u001b[0m\u001b[1;33m\u001b[0m\u001b[1;33m\u001b[0m\u001b[0m\n",
      "\u001b[1;32m~\\AppData\\Local\\Programs\\Python\\Python311\\Lib\\site-packages\\pandas\\_libs\\index.pyx\u001b[0m in \u001b[0;36mpandas._libs.index.IndexEngine.get_loc\u001b[1;34m()\u001b[0m\n",
      "\u001b[1;32m~\\AppData\\Local\\Programs\\Python\\Python311\\Lib\\site-packages\\pandas\\_libs\\index.pyx\u001b[0m in \u001b[0;36mpandas._libs.index.IndexEngine.get_loc\u001b[1;34m()\u001b[0m\n",
      "\u001b[1;32mpandas\\_libs\\hashtable_class_helper.pxi\u001b[0m in \u001b[0;36mpandas._libs.hashtable.PyObjectHashTable.get_item\u001b[1;34m()\u001b[0m\n",
      "\u001b[1;32mpandas\\_libs\\hashtable_class_helper.pxi\u001b[0m in \u001b[0;36mpandas._libs.hashtable.PyObjectHashTable.get_item\u001b[1;34m()\u001b[0m\n",
      "\u001b[1;31mKeyError\u001b[0m: 'log10_Value'",
      "\nThe above exception was the direct cause of the following exception:\n",
      "\u001b[1;31mKeyError\u001b[0m                         Traceback (most recent call last)",
      "\u001b[1;32m~\\AppData\\Local\\Temp\\ipykernel_29140\\604046322.py\u001b[0m in \u001b[0;36m<cell line: 0>\u001b[1;34m()\u001b[0m\n\u001b[1;32m----> 1\u001b[1;33m \u001b[0msubset_low\u001b[0m \u001b[1;33m=\u001b[0m \u001b[0mresults\u001b[0m\u001b[1;33m[\u001b[0m\u001b[0mresults\u001b[0m\u001b[1;33m[\u001b[0m\u001b[1;34m\"log10_Value\"\u001b[0m\u001b[1;33m]\u001b[0m \u001b[1;33m<\u001b[0m \u001b[1;36m2\u001b[0m\u001b[1;33m]\u001b[0m\u001b[1;33m\u001b[0m\u001b[1;33m\u001b[0m\u001b[0m\n\u001b[0m\u001b[0;32m      2\u001b[0m \u001b[0mprint\u001b[0m\u001b[1;33m(\u001b[0m\u001b[1;34m\"🔎 Evaluación con log10_Value < 2 (LR < 100)\"\u001b[0m\u001b[1;33m)\u001b[0m\u001b[1;33m\u001b[0m\u001b[1;33m\u001b[0m\u001b[0m\n\u001b[0;32m      3\u001b[0m \u001b[0mprint\u001b[0m\u001b[1;33m(\u001b[0m\u001b[0mclassification_report\u001b[0m\u001b[1;33m(\u001b[0m\u001b[0msubset_low\u001b[0m\u001b[1;33m[\u001b[0m\u001b[1;34m\"y_true\"\u001b[0m\u001b[1;33m]\u001b[0m\u001b[1;33m,\u001b[0m \u001b[0msubset_low\u001b[0m\u001b[1;33m[\u001b[0m\u001b[1;34m\"y_pred\"\u001b[0m\u001b[1;33m]\u001b[0m\u001b[1;33m)\u001b[0m\u001b[1;33m)\u001b[0m\u001b[1;33m\u001b[0m\u001b[1;33m\u001b[0m\u001b[0m\n",
      "\u001b[1;32m~\\AppData\\Local\\Programs\\Python\\Python311\\Lib\\site-packages\\pandas\\core\\frame.py\u001b[0m in \u001b[0;36m__getitem__\u001b[1;34m(self, key)\u001b[0m\n\u001b[0;32m   3805\u001b[0m             \u001b[1;32mif\u001b[0m \u001b[0mself\u001b[0m\u001b[1;33m.\u001b[0m\u001b[0mcolumns\u001b[0m\u001b[1;33m.\u001b[0m\u001b[0mnlevels\u001b[0m \u001b[1;33m>\u001b[0m \u001b[1;36m1\u001b[0m\u001b[1;33m:\u001b[0m\u001b[1;33m\u001b[0m\u001b[1;33m\u001b[0m\u001b[0m\n\u001b[0;32m   3806\u001b[0m                 \u001b[1;32mreturn\u001b[0m \u001b[0mself\u001b[0m\u001b[1;33m.\u001b[0m\u001b[0m_getitem_multilevel\u001b[0m\u001b[1;33m(\u001b[0m\u001b[0mkey\u001b[0m\u001b[1;33m)\u001b[0m\u001b[1;33m\u001b[0m\u001b[1;33m\u001b[0m\u001b[0m\n\u001b[1;32m-> 3807\u001b[1;33m             \u001b[0mindexer\u001b[0m \u001b[1;33m=\u001b[0m \u001b[0mself\u001b[0m\u001b[1;33m.\u001b[0m\u001b[0mcolumns\u001b[0m\u001b[1;33m.\u001b[0m\u001b[0mget_loc\u001b[0m\u001b[1;33m(\u001b[0m\u001b[0mkey\u001b[0m\u001b[1;33m)\u001b[0m\u001b[1;33m\u001b[0m\u001b[1;33m\u001b[0m\u001b[0m\n\u001b[0m\u001b[0;32m   3808\u001b[0m             \u001b[1;32mif\u001b[0m \u001b[0mis_integer\u001b[0m\u001b[1;33m(\u001b[0m\u001b[0mindexer\u001b[0m\u001b[1;33m)\u001b[0m\u001b[1;33m:\u001b[0m\u001b[1;33m\u001b[0m\u001b[1;33m\u001b[0m\u001b[0m\n\u001b[0;32m   3809\u001b[0m                 \u001b[0mindexer\u001b[0m \u001b[1;33m=\u001b[0m \u001b[1;33m[\u001b[0m\u001b[0mindexer\u001b[0m\u001b[1;33m]\u001b[0m\u001b[1;33m\u001b[0m\u001b[1;33m\u001b[0m\u001b[0m\n",
      "\u001b[1;32m~\\AppData\\Local\\Programs\\Python\\Python311\\Lib\\site-packages\\pandas\\core\\indexes\\base.py\u001b[0m in \u001b[0;36mget_loc\u001b[1;34m(self, key, method, tolerance)\u001b[0m\n\u001b[0;32m   3802\u001b[0m                 \u001b[1;32mreturn\u001b[0m \u001b[0mself\u001b[0m\u001b[1;33m.\u001b[0m\u001b[0m_engine\u001b[0m\u001b[1;33m.\u001b[0m\u001b[0mget_loc\u001b[0m\u001b[1;33m(\u001b[0m\u001b[0mcasted_key\u001b[0m\u001b[1;33m)\u001b[0m\u001b[1;33m\u001b[0m\u001b[1;33m\u001b[0m\u001b[0m\n\u001b[0;32m   3803\u001b[0m             \u001b[1;32mexcept\u001b[0m \u001b[0mKeyError\u001b[0m \u001b[1;32mas\u001b[0m \u001b[0merr\u001b[0m\u001b[1;33m:\u001b[0m\u001b[1;33m\u001b[0m\u001b[1;33m\u001b[0m\u001b[0m\n\u001b[1;32m-> 3804\u001b[1;33m                 \u001b[1;32mraise\u001b[0m \u001b[0mKeyError\u001b[0m\u001b[1;33m(\u001b[0m\u001b[0mkey\u001b[0m\u001b[1;33m)\u001b[0m \u001b[1;32mfrom\u001b[0m \u001b[0merr\u001b[0m\u001b[1;33m\u001b[0m\u001b[1;33m\u001b[0m\u001b[0m\n\u001b[0m\u001b[0;32m   3805\u001b[0m             \u001b[1;32mexcept\u001b[0m \u001b[0mTypeError\u001b[0m\u001b[1;33m:\u001b[0m\u001b[1;33m\u001b[0m\u001b[1;33m\u001b[0m\u001b[0m\n\u001b[0;32m   3806\u001b[0m                 \u001b[1;31m# If we have a listlike key, _check_indexing_error will raise\u001b[0m\u001b[1;33m\u001b[0m\u001b[1;33m\u001b[0m\u001b[0m\n",
      "\u001b[1;31mKeyError\u001b[0m: 'log10_Value'"
     ]
    }
   ],
   "source": [
    "subset_low = results[results[\"log10_Value\"] < 2]\n",
    "print(\"🔎 Evaluación con log10_Value < 2 (LR < 100)\")\n",
    "print(classification_report(subset_low[\"y_true\"], subset_low[\"y_pred\"]))\n"
   ]
  },
  {
   "cell_type": "code",
   "execution_count": null,
   "id": "ac8cd6dd",
   "metadata": {},
   "outputs": [],
   "source": []
  },
  {
   "cell_type": "code",
   "execution_count": 38,
   "id": "d60c4f11",
   "metadata": {},
   "outputs": [],
   "source": [
    "features = [\"k1\", \"k2\", \"Share_allele\", \"log10_Value\"]\n",
    "X = df[features]\n",
    "y = df[\"True_positive\"]  # o el nombre de tu variable objetivo\n"
   ]
  },
  {
   "cell_type": "code",
   "execution_count": 43,
   "id": "47c0c1b9",
   "metadata": {},
   "outputs": [
    {
     "name": "stdout",
     "output_type": "stream",
     "text": [
      "Collecting xgboost\n",
      "  Downloading xgboost-3.0.2-py3-none-win_amd64.whl.metadata (2.1 kB)\n",
      "Requirement already satisfied: numpy in c:\\users\\miranda córdova\\appdata\\local\\programs\\python\\python311\\lib\\site-packages (from xgboost) (1.23.5)\n",
      "Requirement already satisfied: scipy in c:\\users\\miranda córdova\\appdata\\local\\programs\\python\\python311\\lib\\site-packages (from xgboost) (1.10.0)\n",
      "Downloading xgboost-3.0.2-py3-none-win_amd64.whl (150.0 MB)\n",
      "   ---------------------------------------- 0.0/150.0 MB ? eta -:--:--\n",
      "   ---------------------------------------- 0.1/150.0 MB 3.5 MB/s eta 0:00:43\n",
      "   ---------------------------------------- 0.5/150.0 MB 5.8 MB/s eta 0:00:26\n",
      "   ---------------------------------------- 0.8/150.0 MB 5.3 MB/s eta 0:00:29\n",
      "   ---------------------------------------- 0.9/150.0 MB 5.4 MB/s eta 0:00:28\n",
      "   ---------------------------------------- 1.3/150.0 MB 5.4 MB/s eta 0:00:28\n",
      "   ---------------------------------------- 1.6/150.0 MB 5.5 MB/s eta 0:00:27\n",
      "    --------------------------------------- 1.9/150.0 MB 5.8 MB/s eta 0:00:26\n",
      "    --------------------------------------- 2.5/150.0 MB 6.9 MB/s eta 0:00:22\n",
      "    --------------------------------------- 2.8/150.0 MB 6.8 MB/s eta 0:00:22\n",
      "    --------------------------------------- 3.0/150.0 MB 6.6 MB/s eta 0:00:23\n",
      "    --------------------------------------- 3.3/150.0 MB 6.5 MB/s eta 0:00:23\n",
      "    --------------------------------------- 3.6/150.0 MB 6.6 MB/s eta 0:00:23\n",
      "   - -------------------------------------- 4.0/150.0 MB 6.5 MB/s eta 0:00:23\n",
      "   - -------------------------------------- 4.4/150.0 MB 6.8 MB/s eta 0:00:22\n",
      "   - -------------------------------------- 4.7/150.0 MB 6.7 MB/s eta 0:00:22\n",
      "   - -------------------------------------- 5.0/150.0 MB 6.8 MB/s eta 0:00:22\n",
      "   - -------------------------------------- 5.5/150.0 MB 6.9 MB/s eta 0:00:21\n",
      "   - -------------------------------------- 5.9/150.0 MB 7.1 MB/s eta 0:00:21\n",
      "   - -------------------------------------- 6.2/150.0 MB 6.9 MB/s eta 0:00:21\n",
      "   - -------------------------------------- 6.4/150.0 MB 7.0 MB/s eta 0:00:21\n",
      "   - -------------------------------------- 6.8/150.0 MB 6.9 MB/s eta 0:00:21\n",
      "   - -------------------------------------- 7.3/150.0 MB 7.1 MB/s eta 0:00:21\n",
      "   -- ------------------------------------- 7.7/150.0 MB 7.2 MB/s eta 0:00:20\n",
      "   -- ------------------------------------- 8.9/150.0 MB 7.9 MB/s eta 0:00:18\n",
      "   -- ------------------------------------- 9.8/150.0 MB 8.4 MB/s eta 0:00:17\n",
      "   -- ------------------------------------- 10.6/150.0 MB 9.0 MB/s eta 0:00:16\n",
      "   --- ------------------------------------ 11.5/150.0 MB 9.8 MB/s eta 0:00:15\n",
      "   --- ------------------------------------ 12.4/150.0 MB 10.7 MB/s eta 0:00:13\n",
      "   --- ------------------------------------ 13.4/150.0 MB 11.7 MB/s eta 0:00:12\n",
      "   --- ------------------------------------ 14.3/150.0 MB 13.1 MB/s eta 0:00:11\n",
      "   ---- ----------------------------------- 15.4/150.0 MB 14.9 MB/s eta 0:00:10\n",
      "   ---- ----------------------------------- 16.3/150.0 MB 17.2 MB/s eta 0:00:08\n",
      "   ---- ----------------------------------- 17.4/150.0 MB 20.5 MB/s eta 0:00:07\n",
      "   ----- ---------------------------------- 18.8/150.0 MB 22.6 MB/s eta 0:00:06\n",
      "   ----- ---------------------------------- 19.9/150.0 MB 24.2 MB/s eta 0:00:06\n",
      "   ----- ---------------------------------- 20.8/150.0 MB 24.2 MB/s eta 0:00:06\n",
      "   ----- ---------------------------------- 21.9/150.0 MB 24.2 MB/s eta 0:00:06\n",
      "   ------ --------------------------------- 23.1/150.0 MB 25.1 MB/s eta 0:00:06\n",
      "   ------ --------------------------------- 24.4/150.0 MB 26.2 MB/s eta 0:00:05\n",
      "   ------ --------------------------------- 25.4/150.0 MB 27.3 MB/s eta 0:00:05\n",
      "   ------- -------------------------------- 26.8/150.0 MB 27.3 MB/s eta 0:00:05\n",
      "   ------- -------------------------------- 27.9/150.0 MB 26.2 MB/s eta 0:00:05\n",
      "   ------- -------------------------------- 28.1/150.0 MB 26.2 MB/s eta 0:00:05\n",
      "   ------- -------------------------------- 29.4/150.0 MB 24.2 MB/s eta 0:00:05\n",
      "   -------- ------------------------------- 31.2/150.0 MB 27.3 MB/s eta 0:00:05\n",
      "   -------- ------------------------------- 32.3/150.0 MB 26.2 MB/s eta 0:00:05\n",
      "   -------- ------------------------------- 33.2/150.0 MB 25.2 MB/s eta 0:00:05\n",
      "   --------- ------------------------------ 33.8/150.0 MB 24.2 MB/s eta 0:00:05\n",
      "   --------- ------------------------------ 34.3/150.0 MB 23.4 MB/s eta 0:00:05\n",
      "   --------- ------------------------------ 35.3/150.0 MB 22.6 MB/s eta 0:00:06\n",
      "   --------- ------------------------------ 36.4/150.0 MB 21.8 MB/s eta 0:00:06\n",
      "   --------- ------------------------------ 37.5/150.0 MB 21.8 MB/s eta 0:00:06\n",
      "   ---------- ----------------------------- 38.3/150.0 MB 23.4 MB/s eta 0:00:05\n",
      "   ---------- ----------------------------- 38.9/150.0 MB 21.8 MB/s eta 0:00:06\n",
      "   ---------- ----------------------------- 40.4/150.0 MB 21.1 MB/s eta 0:00:06\n",
      "   ----------- ---------------------------- 42.2/150.0 MB 21.8 MB/s eta 0:00:05\n",
      "   ----------- ---------------------------- 43.5/150.0 MB 21.8 MB/s eta 0:00:05\n",
      "   ----------- ---------------------------- 44.8/150.0 MB 25.2 MB/s eta 0:00:05\n",
      "   ------------ --------------------------- 46.2/150.0 MB 26.2 MB/s eta 0:00:04\n",
      "   ------------ --------------------------- 47.3/150.0 MB 26.2 MB/s eta 0:00:04\n",
      "   ------------ --------------------------- 48.3/150.0 MB 27.3 MB/s eta 0:00:04\n",
      "   ------------- -------------------------- 50.3/150.0 MB 29.8 MB/s eta 0:00:04\n",
      "   ------------- -------------------------- 51.3/150.0 MB 28.5 MB/s eta 0:00:04\n",
      "   ------------- -------------------------- 52.4/150.0 MB 27.3 MB/s eta 0:00:04\n",
      "   -------------- ------------------------- 53.7/150.0 MB 27.3 MB/s eta 0:00:04\n",
      "   -------------- ------------------------- 54.8/150.0 MB 26.2 MB/s eta 0:00:04\n",
      "   -------------- ------------------------- 54.9/150.0 MB 25.2 MB/s eta 0:00:04\n",
      "   -------------- ------------------------- 54.9/150.0 MB 25.2 MB/s eta 0:00:04\n",
      "   -------------- ------------------------- 54.9/150.0 MB 25.2 MB/s eta 0:00:04\n",
      "   -------------- ------------------------- 54.9/150.0 MB 25.2 MB/s eta 0:00:04\n",
      "   --------------- ------------------------ 56.5/150.0 MB 18.2 MB/s eta 0:00:06\n",
      "   --------------- ------------------------ 59.1/150.0 MB 21.1 MB/s eta 0:00:05\n",
      "   ---------------- ----------------------- 61.2/150.0 MB 21.1 MB/s eta 0:00:05\n",
      "   ---------------- ----------------------- 62.8/150.0 MB 21.8 MB/s eta 0:00:04\n",
      "   ----------------- ---------------------- 64.2/150.0 MB 22.6 MB/s eta 0:00:04\n",
      "   ----------------- ---------------------- 65.9/150.0 MB 38.6 MB/s eta 0:00:03\n",
      "   ----------------- ---------------------- 67.3/150.0 MB 36.4 MB/s eta 0:00:03\n",
      "   ------------------ --------------------- 68.4/150.0 MB 34.6 MB/s eta 0:00:03\n",
      "   ------------------ --------------------- 69.5/150.0 MB 31.2 MB/s eta 0:00:03\n",
      "   ------------------ --------------------- 70.6/150.0 MB 29.7 MB/s eta 0:00:03\n",
      "   ------------------- -------------------- 72.1/150.0 MB 27.3 MB/s eta 0:00:03\n",
      "   ------------------- -------------------- 73.3/150.0 MB 27.3 MB/s eta 0:00:03\n",
      "   ------------------- -------------------- 74.4/150.0 MB 26.2 MB/s eta 0:00:03\n",
      "   -------------------- ------------------- 76.2/150.0 MB 27.3 MB/s eta 0:00:03\n",
      "   -------------------- ------------------- 77.5/150.0 MB 27.3 MB/s eta 0:00:03\n",
      "   --------------------- ------------------ 78.9/150.0 MB 27.3 MB/s eta 0:00:03\n",
      "   --------------------- ------------------ 80.9/150.0 MB 32.7 MB/s eta 0:00:03\n",
      "   ---------------------- ----------------- 82.5/150.0 MB 31.2 MB/s eta 0:00:03\n",
      "   ---------------------- ----------------- 84.1/150.0 MB 34.4 MB/s eta 0:00:02\n",
      "   ---------------------- ----------------- 85.5/150.0 MB 34.4 MB/s eta 0:00:02\n",
      "   ----------------------- ---------------- 87.1/150.0 MB 32.8 MB/s eta 0:00:02\n",
      "   ----------------------- ---------------- 88.7/150.0 MB 32.8 MB/s eta 0:00:02\n",
      "   ------------------------ --------------- 90.2/150.0 MB 34.4 MB/s eta 0:00:02\n",
      "   ------------------------ --------------- 91.8/150.0 MB 32.8 MB/s eta 0:00:02\n",
      "   ------------------------ --------------- 93.5/150.0 MB 32.7 MB/s eta 0:00:02\n",
      "   ------------------------- -------------- 94.6/150.0 MB 32.7 MB/s eta 0:00:02\n",
      "   ------------------------- -------------- 96.5/150.0 MB 32.7 MB/s eta 0:00:02\n",
      "   -------------------------- ------------- 98.1/150.0 MB 34.4 MB/s eta 0:00:02\n",
      "   -------------------------- ------------- 99.5/150.0 MB 32.8 MB/s eta 0:00:02\n",
      "   -------------------------- ------------ 101.0/150.0 MB 32.8 MB/s eta 0:00:02\n",
      "   -------------------------- ------------ 102.7/150.0 MB 32.8 MB/s eta 0:00:02\n",
      "   --------------------------- ----------- 104.3/150.0 MB 34.4 MB/s eta 0:00:02\n",
      "   --------------------------- ----------- 105.7/150.0 MB 34.4 MB/s eta 0:00:02\n",
      "   --------------------------- ----------- 107.2/150.0 MB 32.7 MB/s eta 0:00:02\n",
      "   ---------------------------- ---------- 108.9/150.0 MB 34.4 MB/s eta 0:00:02\n",
      "   ---------------------------- ---------- 110.4/150.0 MB 32.7 MB/s eta 0:00:02\n",
      "   ----------------------------- --------- 112.0/150.0 MB 34.6 MB/s eta 0:00:02\n",
      "   ----------------------------- --------- 112.3/150.0 MB 29.8 MB/s eta 0:00:02\n",
      "   ----------------------------- --------- 114.9/150.0 MB 32.8 MB/s eta 0:00:02\n",
      "   ------------------------------ -------- 116.4/150.0 MB 32.8 MB/s eta 0:00:02\n",
      "   ------------------------------ -------- 118.1/150.0 MB 32.7 MB/s eta 0:00:01\n",
      "   ------------------------------- ------- 119.4/150.0 MB 32.7 MB/s eta 0:00:01\n",
      "   ------------------------------- ------- 120.1/150.0 MB 28.5 MB/s eta 0:00:02\n",
      "   ------------------------------- ------- 120.9/150.0 MB 27.3 MB/s eta 0:00:02\n",
      "   -------------------------------- ------ 123.2/150.0 MB 32.8 MB/s eta 0:00:01\n",
      "   -------------------------------- ------ 125.7/150.0 MB 32.7 MB/s eta 0:00:01\n",
      "   --------------------------------- ----- 127.3/150.0 MB 32.7 MB/s eta 0:00:01\n",
      "   --------------------------------- ----- 129.0/150.0 MB 32.7 MB/s eta 0:00:01\n",
      "   --------------------------------- ----- 130.7/150.0 MB 40.9 MB/s eta 0:00:01\n",
      "   ---------------------------------- ---- 132.2/150.0 MB 38.6 MB/s eta 0:00:01\n",
      "   ---------------------------------- ---- 133.9/150.0 MB 36.4 MB/s eta 0:00:01\n",
      "   ----------------------------------- --- 135.6/150.0 MB 34.4 MB/s eta 0:00:01\n",
      "   ----------------------------------- --- 137.3/150.0 MB 34.4 MB/s eta 0:00:01\n",
      "   ------------------------------------ -- 139.0/150.0 MB 34.4 MB/s eta 0:00:01\n",
      "   ------------------------------------ -- 140.6/150.0 MB 34.4 MB/s eta 0:00:01\n",
      "   ------------------------------------ -- 142.1/150.0 MB 34.4 MB/s eta 0:00:01\n",
      "   ------------------------------------- - 143.9/150.0 MB 34.4 MB/s eta 0:00:01\n",
      "   ------------------------------------- - 145.3/150.0 MB 34.6 MB/s eta 0:00:01\n",
      "   --------------------------------------  147.2/150.0 MB 34.4 MB/s eta 0:00:01\n",
      "   --------------------------------------  148.7/150.0 MB 34.4 MB/s eta 0:00:01\n",
      "   --------------------------------------  150.0/150.0 MB 34.6 MB/s eta 0:00:01\n",
      "   --------------------------------------  150.0/150.0 MB 31.2 MB/s eta 0:00:01\n",
      "   --------------------------------------  150.0/150.0 MB 31.2 MB/s eta 0:00:01\n",
      "   --------------------------------------  150.0/150.0 MB 31.2 MB/s eta 0:00:01\n",
      "   --------------------------------------  150.0/150.0 MB 31.2 MB/s eta 0:00:01\n",
      "   --------------------------------------  150.0/150.0 MB 31.2 MB/s eta 0:00:01\n",
      "   --------------------------------------  150.0/150.0 MB 31.2 MB/s eta 0:00:01\n",
      "   --------------------------------------  150.0/150.0 MB 31.2 MB/s eta 0:00:01\n",
      "   --------------------------------------  150.0/150.0 MB 31.2 MB/s eta 0:00:01\n",
      "   --------------------------------------  150.0/150.0 MB 31.2 MB/s eta 0:00:01\n",
      "   --------------------------------------  150.0/150.0 MB 31.2 MB/s eta 0:00:01\n",
      "   --------------------------------------  150.0/150.0 MB 31.2 MB/s eta 0:00:01\n",
      "   --------------------------------------  150.0/150.0 MB 31.2 MB/s eta 0:00:01\n",
      "   --------------------------------------  150.0/150.0 MB 31.2 MB/s eta 0:00:01\n",
      "   --------------------------------------  150.0/150.0 MB 31.2 MB/s eta 0:00:01\n",
      "   --------------------------------------  150.0/150.0 MB 31.2 MB/s eta 0:00:01\n",
      "   --------------------------------------  150.0/150.0 MB 31.2 MB/s eta 0:00:01\n",
      "   --------------------------------------  150.0/150.0 MB 31.2 MB/s eta 0:00:01\n",
      "   ---------------------------------------- 150.0/150.0 MB 9.5 MB/s eta 0:00:00\n",
      "Installing collected packages: xgboost\n",
      "Successfully installed xgboost-3.0.2\n",
      "Note: you may need to restart the kernel to use updated packages.\n"
     ]
    },
    {
     "name": "stderr",
     "output_type": "stream",
     "text": [
      "\n",
      "[notice] A new release of pip is available: 23.3.1 -> 25.1.1\n",
      "[notice] To update, run: C:\\Users\\Miranda Córdova\\AppData\\Local\\Programs\\Python\\Python311\\python.exe -m pip install --upgrade pip\n"
     ]
    }
   ],
   "source": [
    "pip install xgboost\n"
   ]
  },
  {
   "cell_type": "code",
   "execution_count": 229,
   "id": "88921fbc",
   "metadata": {},
   "outputs": [],
   "source": [
    "from xgboost import XGBClassifier\n",
    "from sklearn.model_selection import train_test_split, RandomizedSearchCV\n",
    "from sklearn.metrics import classification_report\n",
    "from scipy.stats import randint, uniform\n",
    "import numpy as np"
   ]
  },
  {
   "cell_type": "code",
   "execution_count": 238,
   "id": "aa699d85",
   "metadata": {},
   "outputs": [],
   "source": [
    "#features = [\"k1\", \"k2\", \"Share_allele\", \"log10_Value\"]\n",
    "features = [\"k1\", \"k2\", \"variable_rangos_encoded\"]\n",
    "\n",
    "X = df[features]\n",
    "y = df[\"True_positive\"]  # o el nombre de tu variable objetivo\n"
   ]
  },
  {
   "cell_type": "code",
   "execution_count": 241,
   "id": "f60fbd65",
   "metadata": {},
   "outputs": [],
   "source": [
    "# Dividir datos\n",
    "X_train, X_test, y_train, y_test = train_test_split(X, y, stratify=y, random_state=42)\n",
    "\n",
    "# Definir el modelo base\n",
    "xgb_model = XGBClassifier(eval_metric='aucpr')\n",
    "\n",
    "# Definir espacio de búsqueda para RandomizedSearchCV\n",
    "param_dist = {\n",
    "    'n_estimators': randint(100, 2000),  # número de árboles\n",
    "    'max_depth': [5, 10, 20, 50],        # profundidad del árbol\n",
    "    'learning_rate': uniform(0.01, 0.3), # tasa de aprendizaje\n",
    "    'min_child_weight': [1, 3, 5],       # similar a min_samples_split\n",
    "    'gamma': [0, 0.1, 0.2],              # reducción de impureza mínima\n",
    "    'subsample': [0.6, 0.8, 1.0],        # fracción de muestras usadas por árbol\n",
    "    'colsample_bytree': [0.6, 0.8, 1.0], # similar a max_features\n",
    "    'scale_pos_weight': [1, 2, 5],       # para clases desbalanceadas (en vez de class_weight)\n",
    "}\n",
    "\n",
    "# Configurar RandomizedSearchCV\n",
    "random_search = RandomizedSearchCV(\n",
    "    estimator=xgb_model,\n",
    "    param_distributions=param_dist,\n",
    "    n_iter=50,  # número de combinaciones aleatorias a probar\n",
    "    cv=5,       # validación cruzada 5-fold\n",
    "    scoring='f1',  # puedes usar 'accuracy', 'recall', 'roc_auc', etc.\n",
    "    verbose=1,\n",
    "    random_state=42,\n",
    "    n_jobs=-1\n",
    ")"
   ]
  },
  {
   "cell_type": "code",
   "execution_count": 242,
   "id": "0806d183",
   "metadata": {},
   "outputs": [
    {
     "name": "stdout",
     "output_type": "stream",
     "text": [
      "Fitting 5 folds for each of 50 candidates, totalling 250 fits\n",
      "Mejores parámetros encontrados:\n",
      "{'colsample_bytree': 0.8, 'gamma': 0, 'learning_rate': 0.09386810253902757, 'max_depth': 10, 'min_child_weight': 5, 'n_estimators': 1868, 'scale_pos_weight': 1, 'subsample': 0.6}\n",
      "\n",
      "Reporte de clasificación:\n",
      "              precision    recall  f1-score   support\n",
      "\n",
      "       False       0.98      0.99      0.98       883\n",
      "        True       0.90      0.79      0.84        94\n",
      "\n",
      "    accuracy                           0.97       977\n",
      "   macro avg       0.94      0.89      0.91       977\n",
      "weighted avg       0.97      0.97      0.97       977\n",
      "\n"
     ]
    }
   ],
   "source": [
    "\n",
    "# Ejecutar búsqueda\n",
    "random_search.fit(X_train, y_train)\n",
    "\n",
    "# Predecir con el mejor modelo\n",
    "best_model = random_search.best_estimator_\n",
    "y_pred = best_model.predict(X_test)\n",
    "\n",
    "# Reporte de métricas\n",
    "print(\"Mejores parámetros encontrados:\")\n",
    "print(random_search.best_params_)\n",
    "print(\"\\nReporte de clasificación:\")\n",
    "print(classification_report(y_test, y_pred))"
   ]
  },
  {
   "cell_type": "code",
   "execution_count": 55,
   "id": "8ba7cbae",
   "metadata": {
    "scrolled": true
   },
   "outputs": [
    {
     "name": "stdout",
     "output_type": "stream",
     "text": [
      "              precision    recall  f1-score   support\n",
      "\n",
      "       False       0.99      0.97      0.98       883\n",
      "        True       0.78      0.87      0.82        94\n",
      "\n",
      "    accuracy                           0.96       977\n",
      "   macro avg       0.88      0.92      0.90       977\n",
      "weighted avg       0.97      0.96      0.97       977\n",
      "\n"
     ]
    },
    {
     "name": "stderr",
     "output_type": "stream",
     "text": [
      "C:\\Users\\Miranda Córdova\\AppData\\Local\\Programs\\Python\\Python311\\Lib\\site-packages\\xgboost\\training.py:183: UserWarning: [11:35:55] WARNING: C:\\actions-runner\\_work\\xgboost\\xgboost\\src\\learner.cc:738: \n",
      "Parameters: { \"use_label_encoder\" } are not used.\n",
      "\n",
      "  bst.update(dtrain, iteration=i, fobj=obj)\n"
     ]
    }
   ],
   "source": [
    "features = [\"k0\",\"k1\", \"k2\", \"Share_allele\",\"Shared_Markers\", \"log10_Value\"]\n",
    "X = df[features]\n",
    "y = df[\"True_positive\"]  # o el nombre de tu variable objetivo\n",
    "\n",
    "X_train, X_test, y_train, y_test = train_test_split(X, y, stratify=y, random_state=42)\n",
    "\n",
    "xgb_model = XGBClassifier(use_label_encoder=False, eval_metric='logloss')\n",
    "xgb_model.fit(X_train, y_train)\n",
    "y_pred = xgb_model.predict(X_test)\n",
    "\n",
    "print(classification_report(y_test, y_pred))\n"
   ]
  },
  {
   "cell_type": "code",
   "execution_count": null,
   "id": "ef745671",
   "metadata": {},
   "outputs": [],
   "source": []
  },
  {
   "cell_type": "code",
   "execution_count": 253,
   "id": "6e023147",
   "metadata": {},
   "outputs": [
    {
     "data": {
      "text/html": [
       "<div>\n",
       "<style scoped>\n",
       "    .dataframe tbody tr th:only-of-type {\n",
       "        vertical-align: middle;\n",
       "    }\n",
       "\n",
       "    .dataframe tbody tr th {\n",
       "        vertical-align: top;\n",
       "    }\n",
       "\n",
       "    .dataframe thead th {\n",
       "        text-align: right;\n",
       "    }\n",
       "</style>\n",
       "<table border=\"1\" class=\"dataframe\">\n",
       "  <thead>\n",
       "    <tr style=\"text-align: right;\">\n",
       "      <th></th>\n",
       "      <th>k1</th>\n",
       "      <th>k2</th>\n",
       "      <th>Share_allele</th>\n",
       "      <th>log10_Value</th>\n",
       "    </tr>\n",
       "  </thead>\n",
       "  <tbody>\n",
       "    <tr>\n",
       "      <th>k1</th>\n",
       "      <td>1.000000</td>\n",
       "      <td>-0.957918</td>\n",
       "      <td>-0.839120</td>\n",
       "      <td>-0.080189</td>\n",
       "    </tr>\n",
       "    <tr>\n",
       "      <th>k2</th>\n",
       "      <td>-0.957918</td>\n",
       "      <td>1.000000</td>\n",
       "      <td>0.959944</td>\n",
       "      <td>0.296493</td>\n",
       "    </tr>\n",
       "    <tr>\n",
       "      <th>Share_allele</th>\n",
       "      <td>-0.839120</td>\n",
       "      <td>0.959944</td>\n",
       "      <td>1.000000</td>\n",
       "      <td>0.483579</td>\n",
       "    </tr>\n",
       "    <tr>\n",
       "      <th>log10_Value</th>\n",
       "      <td>-0.080189</td>\n",
       "      <td>0.296493</td>\n",
       "      <td>0.483579</td>\n",
       "      <td>1.000000</td>\n",
       "    </tr>\n",
       "  </tbody>\n",
       "</table>\n",
       "</div>"
      ],
      "text/plain": [
       "                    k1        k2  Share_allele  log10_Value\n",
       "k1            1.000000 -0.957918     -0.839120    -0.080189\n",
       "k2           -0.957918  1.000000      0.959944     0.296493\n",
       "Share_allele -0.839120  0.959944      1.000000     0.483579\n",
       "log10_Value  -0.080189  0.296493      0.483579     1.000000"
      ]
     },
     "execution_count": 253,
     "metadata": {},
     "output_type": "execute_result"
    }
   ],
   "source": [
    "X[[\"k1\", \"k2\", \"Share_allele\", \"log10_Value\"]].corr()\n"
   ]
  },
  {
   "cell_type": "code",
   "execution_count": null,
   "id": "425980d1",
   "metadata": {},
   "outputs": [],
   "source": []
  },
  {
   "cell_type": "code",
   "execution_count": null,
   "id": "e40649ad",
   "metadata": {},
   "outputs": [],
   "source": []
  },
  {
   "cell_type": "code",
   "execution_count": 254,
   "id": "b836ca66",
   "metadata": {},
   "outputs": [],
   "source": [
    "from sklearn.model_selection import train_test_split, RandomizedSearchCV\n",
    "from sklearn.preprocessing import StandardScaler\n",
    "from sklearn.svm import SVC\n",
    "from sklearn.metrics import classification_report\n",
    "from scipy.stats import uniform, reciprocal\n",
    "import numpy as np\n"
   ]
  },
  {
   "cell_type": "code",
   "execution_count": 255,
   "id": "eafe55fe",
   "metadata": {},
   "outputs": [],
   "source": [
    "X = df[[\"k1\", \"k2\", \"variable_rangos_encoded\"]]\n",
    "y = df[\"True_positive\"]\n",
    "\n",
    "X_train, X_test, y_train, y_test = train_test_split(X, y, stratify=y, random_state=42)\n",
    "\n",
    "# Escalado\n",
    "scaler = StandardScaler()\n",
    "X_train_scaled = scaler.fit_transform(X_train)\n",
    "X_test_scaled = scaler.transform(X_test)\n"
   ]
  },
  {
   "cell_type": "code",
   "execution_count": 256,
   "id": "28535cfa",
   "metadata": {},
   "outputs": [],
   "source": [
    "svc = SVC(probability=True)\n",
    "\n",
    "param_dist = {\n",
    "    'C': uniform(0.1, 10),  # valores entre 0.1 y 10\n",
    "    'kernel': ['linear', 'rbf', 'poly', 'sigmoid'],\n",
    "    'gamma': ['scale', 'auto', 0.001, 0.01, 0.1, 1],  # solo para kernels no lineales\n",
    "    'degree': [2, 3, 4],  # solo para kernel='poly'\n",
    "}\n"
   ]
  },
  {
   "cell_type": "code",
   "execution_count": 257,
   "id": "25a7add5",
   "metadata": {},
   "outputs": [
    {
     "name": "stdout",
     "output_type": "stream",
     "text": [
      "Fitting 5 folds for each of 50 candidates, totalling 250 fits\n"
     ]
    },
    {
     "data": {
      "text/html": [
       "<style>#sk-container-id-1 {color: black;}#sk-container-id-1 pre{padding: 0;}#sk-container-id-1 div.sk-toggleable {background-color: white;}#sk-container-id-1 label.sk-toggleable__label {cursor: pointer;display: block;width: 100%;margin-bottom: 0;padding: 0.3em;box-sizing: border-box;text-align: center;}#sk-container-id-1 label.sk-toggleable__label-arrow:before {content: \"▸\";float: left;margin-right: 0.25em;color: #696969;}#sk-container-id-1 label.sk-toggleable__label-arrow:hover:before {color: black;}#sk-container-id-1 div.sk-estimator:hover label.sk-toggleable__label-arrow:before {color: black;}#sk-container-id-1 div.sk-toggleable__content {max-height: 0;max-width: 0;overflow: hidden;text-align: left;background-color: #f0f8ff;}#sk-container-id-1 div.sk-toggleable__content pre {margin: 0.2em;color: black;border-radius: 0.25em;background-color: #f0f8ff;}#sk-container-id-1 input.sk-toggleable__control:checked~div.sk-toggleable__content {max-height: 200px;max-width: 100%;overflow: auto;}#sk-container-id-1 input.sk-toggleable__control:checked~label.sk-toggleable__label-arrow:before {content: \"▾\";}#sk-container-id-1 div.sk-estimator input.sk-toggleable__control:checked~label.sk-toggleable__label {background-color: #d4ebff;}#sk-container-id-1 div.sk-label input.sk-toggleable__control:checked~label.sk-toggleable__label {background-color: #d4ebff;}#sk-container-id-1 input.sk-hidden--visually {border: 0;clip: rect(1px 1px 1px 1px);clip: rect(1px, 1px, 1px, 1px);height: 1px;margin: -1px;overflow: hidden;padding: 0;position: absolute;width: 1px;}#sk-container-id-1 div.sk-estimator {font-family: monospace;background-color: #f0f8ff;border: 1px dotted black;border-radius: 0.25em;box-sizing: border-box;margin-bottom: 0.5em;}#sk-container-id-1 div.sk-estimator:hover {background-color: #d4ebff;}#sk-container-id-1 div.sk-parallel-item::after {content: \"\";width: 100%;border-bottom: 1px solid gray;flex-grow: 1;}#sk-container-id-1 div.sk-label:hover label.sk-toggleable__label {background-color: #d4ebff;}#sk-container-id-1 div.sk-serial::before {content: \"\";position: absolute;border-left: 1px solid gray;box-sizing: border-box;top: 0;bottom: 0;left: 50%;z-index: 0;}#sk-container-id-1 div.sk-serial {display: flex;flex-direction: column;align-items: center;background-color: white;padding-right: 0.2em;padding-left: 0.2em;position: relative;}#sk-container-id-1 div.sk-item {position: relative;z-index: 1;}#sk-container-id-1 div.sk-parallel {display: flex;align-items: stretch;justify-content: center;background-color: white;position: relative;}#sk-container-id-1 div.sk-item::before, #sk-container-id-1 div.sk-parallel-item::before {content: \"\";position: absolute;border-left: 1px solid gray;box-sizing: border-box;top: 0;bottom: 0;left: 50%;z-index: -1;}#sk-container-id-1 div.sk-parallel-item {display: flex;flex-direction: column;z-index: 1;position: relative;background-color: white;}#sk-container-id-1 div.sk-parallel-item:first-child::after {align-self: flex-end;width: 50%;}#sk-container-id-1 div.sk-parallel-item:last-child::after {align-self: flex-start;width: 50%;}#sk-container-id-1 div.sk-parallel-item:only-child::after {width: 0;}#sk-container-id-1 div.sk-dashed-wrapped {border: 1px dashed gray;margin: 0 0.4em 0.5em 0.4em;box-sizing: border-box;padding-bottom: 0.4em;background-color: white;}#sk-container-id-1 div.sk-label label {font-family: monospace;font-weight: bold;display: inline-block;line-height: 1.2em;}#sk-container-id-1 div.sk-label-container {text-align: center;}#sk-container-id-1 div.sk-container {/* jupyter's `normalize.less` sets `[hidden] { display: none; }` but bootstrap.min.css set `[hidden] { display: none !important; }` so we also need the `!important` here to be able to override the default hidden behavior on the sphinx rendered scikit-learn.org. See: https://github.com/scikit-learn/scikit-learn/issues/21755 */display: inline-block !important;position: relative;}#sk-container-id-1 div.sk-text-repr-fallback {display: none;}</style><div id=\"sk-container-id-1\" class=\"sk-top-container\"><div class=\"sk-text-repr-fallback\"><pre>RandomizedSearchCV(cv=5, estimator=SVC(probability=True), n_iter=50, n_jobs=-1,\n",
       "                   param_distributions={&#x27;C&#x27;: &lt;scipy.stats._distn_infrastructure.rv_continuous_frozen object at 0x0000018470E0FFD0&gt;,\n",
       "                                        &#x27;degree&#x27;: [2, 3, 4],\n",
       "                                        &#x27;gamma&#x27;: [&#x27;scale&#x27;, &#x27;auto&#x27;, 0.001, 0.01,\n",
       "                                                  0.1, 1],\n",
       "                                        &#x27;kernel&#x27;: [&#x27;linear&#x27;, &#x27;rbf&#x27;, &#x27;poly&#x27;,\n",
       "                                                   &#x27;sigmoid&#x27;]},\n",
       "                   random_state=42, scoring=&#x27;f1&#x27;, verbose=1)</pre><b>In a Jupyter environment, please rerun this cell to show the HTML representation or trust the notebook. <br />On GitHub, the HTML representation is unable to render, please try loading this page with nbviewer.org.</b></div><div class=\"sk-container\" hidden><div class=\"sk-item sk-dashed-wrapped\"><div class=\"sk-label-container\"><div class=\"sk-label sk-toggleable\"><input class=\"sk-toggleable__control sk-hidden--visually\" id=\"sk-estimator-id-1\" type=\"checkbox\" ><label for=\"sk-estimator-id-1\" class=\"sk-toggleable__label sk-toggleable__label-arrow\">RandomizedSearchCV</label><div class=\"sk-toggleable__content\"><pre>RandomizedSearchCV(cv=5, estimator=SVC(probability=True), n_iter=50, n_jobs=-1,\n",
       "                   param_distributions={&#x27;C&#x27;: &lt;scipy.stats._distn_infrastructure.rv_continuous_frozen object at 0x0000018470E0FFD0&gt;,\n",
       "                                        &#x27;degree&#x27;: [2, 3, 4],\n",
       "                                        &#x27;gamma&#x27;: [&#x27;scale&#x27;, &#x27;auto&#x27;, 0.001, 0.01,\n",
       "                                                  0.1, 1],\n",
       "                                        &#x27;kernel&#x27;: [&#x27;linear&#x27;, &#x27;rbf&#x27;, &#x27;poly&#x27;,\n",
       "                                                   &#x27;sigmoid&#x27;]},\n",
       "                   random_state=42, scoring=&#x27;f1&#x27;, verbose=1)</pre></div></div></div><div class=\"sk-parallel\"><div class=\"sk-parallel-item\"><div class=\"sk-item\"><div class=\"sk-label-container\"><div class=\"sk-label sk-toggleable\"><input class=\"sk-toggleable__control sk-hidden--visually\" id=\"sk-estimator-id-2\" type=\"checkbox\" ><label for=\"sk-estimator-id-2\" class=\"sk-toggleable__label sk-toggleable__label-arrow\">estimator: SVC</label><div class=\"sk-toggleable__content\"><pre>SVC(probability=True)</pre></div></div></div><div class=\"sk-serial\"><div class=\"sk-item\"><div class=\"sk-estimator sk-toggleable\"><input class=\"sk-toggleable__control sk-hidden--visually\" id=\"sk-estimator-id-3\" type=\"checkbox\" ><label for=\"sk-estimator-id-3\" class=\"sk-toggleable__label sk-toggleable__label-arrow\">SVC</label><div class=\"sk-toggleable__content\"><pre>SVC(probability=True)</pre></div></div></div></div></div></div></div></div></div></div>"
      ],
      "text/plain": [
       "RandomizedSearchCV(cv=5, estimator=SVC(probability=True), n_iter=50, n_jobs=-1,\n",
       "                   param_distributions={'C': <scipy.stats._distn_infrastructure.rv_continuous_frozen object at 0x0000018470E0FFD0>,\n",
       "                                        'degree': [2, 3, 4],\n",
       "                                        'gamma': ['scale', 'auto', 0.001, 0.01,\n",
       "                                                  0.1, 1],\n",
       "                                        'kernel': ['linear', 'rbf', 'poly',\n",
       "                                                   'sigmoid']},\n",
       "                   random_state=42, scoring='f1', verbose=1)"
      ]
     },
     "execution_count": 257,
     "metadata": {},
     "output_type": "execute_result"
    }
   ],
   "source": [
    "random_search = RandomizedSearchCV(\n",
    "    svc,\n",
    "    param_distributions=param_dist,\n",
    "    n_iter=50,  # número de combinaciones a probar\n",
    "    scoring='f1',  # puedes usar 'recall', 'precision', 'accuracy', etc.\n",
    "    cv=5,  # validación cruzada con 5 folds\n",
    "    verbose=1,\n",
    "    random_state=42,\n",
    "    n_jobs=-1\n",
    ")\n",
    "\n",
    "random_search.fit(X_train_scaled, y_train)\n"
   ]
  },
  {
   "cell_type": "code",
   "execution_count": 258,
   "id": "9a8da972",
   "metadata": {},
   "outputs": [
    {
     "name": "stdout",
     "output_type": "stream",
     "text": [
      "Mejores hiperparámetros encontrados:\n",
      "{'C': 1.9485445552552705, 'degree': 4, 'gamma': 'auto', 'kernel': 'rbf'}\n",
      "\n",
      "Reporte de clasificación:\n",
      "              precision    recall  f1-score   support\n",
      "\n",
      "       False       0.98      0.99      0.98       883\n",
      "        True       0.90      0.78      0.83        94\n",
      "\n",
      "    accuracy                           0.97       977\n",
      "   macro avg       0.94      0.88      0.91       977\n",
      "weighted avg       0.97      0.97      0.97       977\n",
      "\n"
     ]
    }
   ],
   "source": [
    "print(\"Mejores hiperparámetros encontrados:\")\n",
    "print(random_search.best_params_)\n",
    "\n",
    "best_model = random_search.best_estimator_\n",
    "y_pred = best_model.predict(X_test_scaled)\n",
    "\n",
    "print(\"\\nReporte de clasificación:\")\n",
    "print(classification_report(y_test, y_pred))\n"
   ]
  },
  {
   "cell_type": "code",
   "execution_count": null,
   "id": "a6efda6f",
   "metadata": {},
   "outputs": [],
   "source": []
  }
 ],
 "metadata": {
  "kernelspec": {
   "display_name": "Python 3 (ipykernel)",
   "language": "python",
   "name": "python3"
  },
  "language_info": {
   "codemirror_mode": {
    "name": "ipython",
    "version": 3
   },
   "file_extension": ".py",
   "mimetype": "text/x-python",
   "name": "python",
   "nbconvert_exporter": "python",
   "pygments_lexer": "ipython3",
   "version": "3.11.2"
  }
 },
 "nbformat": 4,
 "nbformat_minor": 5
}
